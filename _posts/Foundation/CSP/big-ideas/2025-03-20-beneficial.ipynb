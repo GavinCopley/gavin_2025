{
 "cells": [
  {
   "cell_type": "markdown",
   "metadata": {},
   "source": [
    "---\n",
    "layout: post\n",
    "title: Beneficial and Harmful Effects of Computing\n",
    "description: hacks\n",
    "type: hacks\n",
    "comments: True\n",
    "categories: ['DevOps']\n",
    "permalink: /csp/lesson/b&h\n",
    "---"
   ]
  },
  {
   "cell_type": "markdown",
   "metadata": {},
   "source": [
    "## Popcorn Hack 1\n",
    "Technological innovations impact society in both good and bad ways because technology can increase the sharing of information, while bad things can come from the anonimity of people who can hide behind screens. One good thing about computing innovations is the ability to share medical information, like what is happening with hospitals where they can share medical infomormation in a safe way. A bad thing is that cyberbullying and other harmful things can come out of it.\n",
    "\n",
    "## Popcorn Hack 2\n",
    "The meaning of negative effects of technology is that harmful things can come out of these new innovations, when at first it is only seeming to be positive. We can use responsible programming to avoid and reduce these unintended and harmful impacts by limiting the ways people can abuse tech for malice. For example, we can add restrictions on social media platforms or reporting systems to prevent cyberbullying.\n",
    "\n",
    "## Popcorn Hack 3\n",
    "It is important to understand the unintended consequence of technology because we can help reduce and prevent these consequences before they get too out of control. Dopamine disrupting technology is in extreme need of understanding unintended consequences because dopamine disruoption can lead to anxiety, depression, and addiction. These are all unintended consquences of social media and other technologies such as our phones, so it is pivital we minimize these things.\n",
    "\n",
    "## Homework\n",
    "### Task 1: Rethinking AI for New Uses\n",
    "Original Use: <br>\n",
    "Initially designed for security and identification purposes, such as unlocking smartphones and verifying identities at airports.\n",
    "\n",
    "New Use Case: <br>\n",
    "Facial recognition could be used in mental health therapy to analyze facial expressions and detect early signs of emotional distress or mood disorders. AI could provide real-time feedback to therapists or individuals, helping monitor mental well-being over time.\n",
    "\n",
    "Impact:<br>\n",
    "Benefits\n",
    "- Early detection of mental health issues, leading to quicker interventions.\n",
    "- Provides therapists with data-driven insights to improve treatment plans.<br>\n",
    "Risks\n",
    "- Privacy concerns regarding storing and analyzing facial data.\n",
    "- Potential misinterpretation of emotions, leading to incorrect assessments.\n",
    "\n",
    "### Task 2: Ethical AI Coding Challenge\n",
    "Problem: <br>\n",
    "AI-generated deepfakes spreading misinformation.\n",
    "\n",
    "Risk: <br>\n",
    "Deepfake technology can create realistic fake videos or images, leading to misinformation, political manipulation, and damage to personal reputations. This can undermine trust in media and create social instability.\n",
    "\n",
    "Solution 1: <br>\n",
    "Develop AI models that detect deepfakes by analyzing inconsistencies in facial movements, lighting, and pixel patterns. Platforms should automatically flag suspicious content for review.\n",
    "\n",
    "Solution 2: <br>\n",
    "Implement digital watermarks or blockchain verification for authentic media, ensuring users can verify the source and integrity of images and videos.\n",
    "\n",
    "Reflection: <br>\n",
    "Ethical AI development is crucial to prevent harm and ensure technology benefits society. Without safeguards, AI can be misused to spread false information and manipulate public opinion. By designing AI responsibly, we can build trust and maintain fairness in digital spaces.\n",
    "\n",
    "### Task 3: AI & Unintended Consequences Research\n",
    "Article Link: [Here](https://www.reuters.com/article/world/insight-amazon-scraps-secret-ai-recruiting-tool-that-showed-bias-against-women-idUSKCN1MK0AG/)\n",
    "\n",
    "AI Example: <br>\n",
    "Amazon’s AI Hiring Tool\n",
    "\n",
    "What Happened: <br>\n",
    "Amazon developed an AI hiring tool to automate resume screening and identify the best candidates. However, the AI unintentionally developed gender bias, favoring male applicants over female candidates. This happened because the model was trained on past hiring data, which reflected historical gender imbalances in the tech industry.\n",
    "\n",
    "Response: <br>\n",
    "Amazon discontinued the AI tool after discovering its bias. The company acknowledged the issue and worked on refining its hiring processes.\n",
    "\n",
    "Prevention: <br>\n",
    "Developers should have ensured diverse and unbiased training data. Additionally, they could have implemented fairness audits and bias detection algorithms to identify and correct discriminatory patterns before deployment."
   ]
  }
 ],
 "metadata": {
  "language_info": {
   "name": "python"
  }
 },
 "nbformat": 4,
 "nbformat_minor": 2
}
