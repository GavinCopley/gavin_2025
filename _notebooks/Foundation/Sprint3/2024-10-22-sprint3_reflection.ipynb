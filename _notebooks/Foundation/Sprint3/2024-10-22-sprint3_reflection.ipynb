{
 "cells": [
  {
   "cell_type": "markdown",
   "metadata": {},
   "source": [
    "---\n",
    "layout: post\n",
    "title: Sprint 3 Reflection\n",
    "description: Reflection, accomplishments, and what I learned from Sprint 3\n",
    "type: issues\n",
    "comments: true\n",
    "categories: [Collaboration]\n",
    "type: tangibles\n",
    "courses: { csp: {week: 12} }\n",
    "permalink: sprint3/reflection\n",
    "comments: true\n",
    "---"
   ]
  },
  {
   "cell_type": "markdown",
   "metadata": {},
   "source": [
    "## Reflection\n",
    "I learned quite a bit during Sprint 3. It required more planning and thinking between our group in order to make a good room for Flocker. I was the Integrator of Integrators for my period and I was the scrum master of my group. I created a repository for my period and accepted all pull requests that had no merge conflicts. I worked with the Scrum Master of Scrum Masters, Mihir Bapat, on our theme and helped everyone with the backend. I had a pretty good grasp on our assignments and stuff so I ended up helping a lot of people. I helped people with their errors on venv and other problems with the backend and flask. For my group, I was a frontend dev but I also ended up working with the backend."
   ]
  },
  {
   "cell_type": "markdown",
   "metadata": {},
   "source": [
    "## Accomplishments\n",
    "I understand the backend and how it communicates with the frontend a lot better. I somewhat understand APIs and how databases work. I worked a lot on the frontend to make it look nice and did a little to the backend. I added the posts from the post.md in navigation to our site and made it so that it was Shared Interest instead of the home version. I worked with Bailey and Sonika on that and we worked together to find how to do it."
   ]
  },
  {
   "cell_type": "markdown",
   "metadata": {},
   "source": [
    "## Images\n",
    "Shows my integrating and the posts."
   ]
  },
  {
   "cell_type": "markdown",
   "metadata": {},
   "source": [
    "![Pull Requests]({{site.baseurl}}/images/sprint3/pullrequests.png)\n",
    "![Posts]({{site.baseurl}}/images/sprint3/footballposts.png)"
   ]
  },
  {
   "cell_type": "markdown",
   "metadata": {},
   "source": [
    "<style>\n",
    "        .dynamic-link-container {\n",
    "            margin: 20px;\n",
    "        }\n",
    "        .dynamic-link-container select,\n",
    "        .dynamic-link-container button {\n",
    "            padding: 10px;\n",
    "            margin: 10px 0;\n",
    "            font-size: 16px;\n",
    "        }\n",
    "</style>\n",
    "<body>\n",
    "    <div class=\"dynamic-link-container\">\n",
    "        <h1>Links</h1>\n",
    "        <!-- Dropdown menu -->\n",
    "        <label for=\"linkDropdown\">Choose a link:</label>\n",
    "        <select id=\"linkDropdown\">\n",
    "            <option value=\"\" disabled selected>Select...</option>\n",
    "            <option value=\"https://github.com/GavinCopley/flocker_frontend\" selected>My fork of Flocker Frontend</option>\n",
    "            <option value=\"https://github.com/GavinCopley/flocker_backend_p1\" selected>My fork of Flocker Backend</option>\n",
    "            <option value=\"https://github.com/GavinCopley/flocker_frontend/commit/8e96fb28b9e8ae9cd85c1818f34b2b3546f2e522\">First Commit (Football.md)</option>\n",
    "        </select>\n",
    "        <!-- Button that opens the selected link -->\n",
    "        <button id=\"openLinkButton\" onclick=\"openLink()\">Open Link</button>\n",
    "    </div>\n",
    "    <script>\n",
    "        // Function to open the selected link\n",
    "        function openLink() {\n",
    "            const dropdown = document.getElementById(\"linkDropdown\");\n",
    "            const selectedLink = dropdown.value;\n",
    "            if (!selectedLink) {\n",
    "                alert(\"Please select a link first!\");\n",
    "                return;\n",
    "            }\n",
    "            window.open(selectedLink, \"_blank\"); // Opens the link in a new tab\n",
    "        }\n",
    "    </script>\n",
    "</body>"
   ]
  }
 ],
 "metadata": {
  "language_info": {
   "name": "python"
  }
 },
 "nbformat": 4,
 "nbformat_minor": 2
}
