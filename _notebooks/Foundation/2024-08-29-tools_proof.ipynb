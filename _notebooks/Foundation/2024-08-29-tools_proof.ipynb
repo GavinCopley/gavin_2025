{
 "cells": [
  {
   "cell_type": "raw",
   "metadata": {
    "vscode": {
     "languageId": "raw"
    }
   },
   "source": [
    "---\n",
    "layout: post\n",
    "title: Tools Setup Successful\n",
    "description:  Proof of successful setup of tools\n",
    "type: issues\n",
    "comments: true\n",
    "quicks: [Important]\n",
    "categories: [DevOps]\n",
    "---"
   ]
  },
  {
   "cell_type": "markdown",
   "metadata": {},
   "source": []
  },
  {
   "cell_type": "markdown",
   "metadata": {},
   "source": [
    "## It works!\n",
    "After much trial and error, my tools work perfectly and I am able to code, make, commit, and push to GitHub. I ran into a few issues and problems when trying to install the tools, but I eventually got it working. I will document the problems and the successes of this week.\n"
   ]
  },
  {
   "cell_type": "markdown",
   "metadata": {},
   "source": [
    "## All tools installed\n",
    "I downloaded, VS Code, Brew, and followed all of the commands in the [Tools Setup](https://nighthawkcoders.github.io/portfolio_2025/devops/tools/setup). I used commands like \"jupyter --version\" to make sure everything was installed and good to go. All tools were installed."
   ]
  },
  {
   "cell_type": "markdown",
   "metadata": {},
   "source": [
    "## nbconvert Error\n",
    "However, I ran into a problem with making. Even after I verified my nbconvert existed and was the right version with \"jupyter --version\", it still would say that it was missing in the terminal when I tried to make. I redid the whole setup guide at least 2 more times, but I kept running into the same issue. I asked Mr. Mortensen and he was able to diagnose what the issue was, but couldn't find a fix. A student in the class as the time was able to fix it. However, it was only a temperary fix that broke again. I managed to fix it by going to an [older version](https://nighthawkcoders.github.io/teacher//5.a/c4.1/2023/08/16/github_pages_setup_IPYNB_2_.html#make-commands-local-build-make-make-clean-make-stop-make-convert) of the setup guide and running these commands:\n",
    "- pip install nbconvert  # library for notebook conversion\n",
    "- pip install nbformat  # notebook file utility\n",
    "- pip install pyyaml  # notebook frontmatter <br><br>\n",
    "This fixed the error and I was successfully able to make. Picture of error is below."
   ]
  },
  {
   "cell_type": "markdown",
   "metadata": {
    "vscode": {
     "languageId": "html"
    }
   },
   "source": [
    "## Make Error\n",
    "![Make Error]({{site.baseurl}}/images/notebooks/foundation/tools_proof/make_error.png)"
   ]
  },
  {
   "cell_type": "markdown",
   "metadata": {},
   "source": [
    "## Activate Script\n",
    "![Make Error]({{site.baseurl}}/images/notebooks/foundation/tools_proof/activate.png)"
   ]
  },
  {
   "cell_type": "markdown",
   "metadata": {},
   "source": [
    "## Bundle Install\n",
    "![Make Error]({{site.baseurl}}/images/notebooks/foundation/tools_proof/bundle_install.png)"
   ]
  },
  {
   "cell_type": "markdown",
   "metadata": {},
   "source": [
    "## Git Config\n",
    "![Make Error]({{site.baseurl}}/images/notebooks/foundation/tools_proof/git_config.png)"
   ]
  },
  {
   "cell_type": "markdown",
   "metadata": {},
   "source": [
    "## Venv working\n",
    "![Make Error]({{site.baseurl}}/images/notebooks/foundation/tools_proof/venv.png)"
   ]
  },
  {
   "cell_type": "markdown",
   "metadata": {},
   "source": [
    "## Make Working (after troubleshooting with the nbconvert error)\n",
    "![Make Error]({{site.baseurl}}/images/notebooks/foundation/tools_proof/make.png)"
   ]
  },
  {
   "cell_type": "markdown",
   "metadata": {},
   "source": [
    "## Site Running\n",
    "![Make Error]({{site.baseurl}}/images/notebooks/foundation/tools_proof/make_site.png)"
   ]
  }
 ],
 "metadata": {
  "kernelspec": {
   "display_name": "venv",
   "language": "python",
   "name": "python3"
  },
  "language_info": {
   "codemirror_mode": {
    "name": "ipython",
    "version": 3
   },
   "file_extension": ".py",
   "mimetype": "text/x-python",
   "name": "python",
   "nbconvert_exporter": "python",
   "pygments_lexer": "ipython3",
   "version": "3.12.5"
  }
 },
 "nbformat": 4,
 "nbformat_minor": 2
}
