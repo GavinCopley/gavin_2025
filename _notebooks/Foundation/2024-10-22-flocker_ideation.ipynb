{
 "cells": [
  {
   "cell_type": "markdown",
   "metadata": {},
   "source": [
    "---\n",
    "layout: post\n",
    "title: Flocker Ideation\n",
    "description:  Google Doc\n",
    "type: issues\n",
    "comments: true\n",
    "categories: [Collaboration]\n",
    "type: hacks\n",
    "courses: { csp: {week: 8} }\n",
    "permalink: flocker_ideation\n",
    "---"
   ]
  },
  {
   "cell_type": "markdown",
   "metadata": {},
   "source": [
    "## Ideation Google Doc\n",
    "[Here](https://docs.google.com/document/d/17NTxzOPUCTLTYmzFto4Ilbxx1yOnaCPo3Z-sko6RzcY/edit?usp=sharing)"
   ]
  }
 ],
 "metadata": {
  "language_info": {
   "name": "python"
  }
 },
 "nbformat": 4,
 "nbformat_minor": 2
}
