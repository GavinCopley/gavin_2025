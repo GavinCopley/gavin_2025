{
 "cells": [
  {
   "cell_type": "raw",
   "metadata": {
    "vscode": {
     "languageId": "raw"
    }
   },
   "source": [
    "---\n",
    "layout: post\n",
    "title: Week 2 Plan\n",
    "description: Week 2 Plan\n",
    "type: issues\n",
    "comments: true\n",
    "categories: [Collaboration]\n",
    "type: plans\n",
    "courses: { csp: {week: 2} }\n",
    "---"
   ]
  },
  {
   "cell_type": "markdown",
   "metadata": {},
   "source": [
    "## Week 2 Plan\n",
    "- Get a good grade on [\"Sprint1: Tools and Software Development Process\"](https://github.com/nighthawkcoders/portfolio_2025/issues/14) assignment\n",
    "- Learn about and start Scrum\n",
    "- WIP"
   ]
  },
  {
   "cell_type": "code",
   "execution_count": null,
   "metadata": {
    "vscode": {
     "languageId": "javascript"
    }
   },
   "outputs": [],
   "source": [
    "/* IGNORE\n",
    "| Day | Tasks |\n",
    "| -------- | -------- |\n",
    "| Monday | Lorem  |\n",
    "| | Ipsum\n",
    "|Tuesday | Lorem | \n",
    "| | Ipsum\n",
    " Wednesday | Lorem |\n",
    " | | Ipsum\n",
    "| Thursday | Lorem |\n",
    "| Friday | Lorem\n",
    "*/"
   ]
  }
 ],
 "metadata": {
  "language_info": {
   "name": "python"
  }
 },
 "nbformat": 4,
 "nbformat_minor": 2
}
