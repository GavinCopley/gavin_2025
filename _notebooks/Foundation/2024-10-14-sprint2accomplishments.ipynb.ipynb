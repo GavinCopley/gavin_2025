{
 "cells": [
  {
   "attachments": {},
   "cell_type": "raw",
   "metadata": {
    "vscode": {
     "languageId": "raw"
    }
   },
   "source": [
    "---\n",
    "layout: post\n",
    "title: Sprint 2 Reflection\n",
    "description: Accomplishments and reflection for Sprint 2\n",
    "permalink: sprint2/accomplishments\n",
    "comments: true\n",
    "type: tangibles\n",
    "courses: { csp: {week: 7} }\n",
    "menu: nav/sprint2_nav.html\n",
    "---"
   ]
  },
  {
   "cell_type": "markdown",
   "metadata": {},
   "source": [
    "## Reflection\n",
    "The project was so much fun, and it became a very enriching learning process for each one of us involved in its making. I managed to internalize very basic notions about programming that were quite useful in software development. I was able to get some knowledge of working with <strong>variables</strong> to store and manipulate data efficiently. I was also introduced to <strong>data abstraction</strong>, which helped me deal with complexity, considering the breakdown of the problem into smaller, manageable parts.\n",
    "\n",
    "Then, I also worked with <strong>mathematical expressions</strong> to make various calculations and solve some problems that included numerical operations. Finally, <strong>strings</strong> handling became really handy in working with textual data by allowing manipulation and analysis of the latter in a variety of ways. Understanding <strong>booleans</strong> was another important part in the learning curve since it gave me the capability of making true/false decisions within my code.\n",
    "\n",
    "We also did <strong>conditionals and nested conditionals</strong>, (which me and my group taught) which played a very important role in making programs more dynamic. I embedded iteration-ways of repeating certain actions effectively-with the use of <strong>loops</strong>; this is quite an important feature when there are lots of repetitive tasks. Lastly, I was introduced to <strong>lists</strong>, which are powerful data types that helped me in managing and organizing collections of information.\n",
    "\n",
    "In general, this project greatly increased my knowledge about programming and has given me a solid foundation upon which I can succeed in future programming endeavers."
   ]
  }
 ],
 "metadata": {
  "kernelspec": {
   "display_name": "Python 3.8.10 64-bit",
   "language": "python",
   "name": "python3"
  },
  "language_info": {
   "codemirror_mode": {
    "name": "ipython",
    "version": 3
   },
   "file_extension": ".py",
   "mimetype": "text/x-python",
   "name": "python",
   "nbconvert_exporter": "python",
   "pygments_lexer": "ipython3",
   "version": "3.12.5"
  },
  "vscode": {
   "interpreter": {
    "hash": "916dbcbb3f70747c44a77c7bcd40155683ae19c65e1c03b4aa3499c5328201f1"
   }
  }
 },
 "nbformat": 4,
 "nbformat_minor": 2
}
