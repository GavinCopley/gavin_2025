{
 "cells": [
  {
   "cell_type": "markdown",
   "metadata": {},
   "source": [
    "---\n",
    "layout: post\n",
    "title: MCQ Reflection\n",
    "description:  MCQ Reflection and corrections and such\n",
    "type: issues\n",
    "comments: true\n",
    "categories: [Collaboration]\n",
    "type: tangibles\n",
    "courses: { csp: {week: 13} }\n",
    "permalink: 2018mcqReflection\n",
    "---"
   ]
  },
  {
   "cell_type": "markdown",
   "metadata": {},
   "source": [
    "## Reflection\n",
    "I did pretty good for not watching any of the college board videos. The test was pretty unrelated from the majority of the class, it went into a lot of stuff about loops and some cyber security questions but those were pretty easy. \n",
    "\n",
    "I had to Google just a few key terms to know what the question was talking about but once I knew the key terms the answer came pretty easily. I think I learned a lot by doing that, as I learned what I didn't know and I should now know how to do pretty much the whole MCQ again without much trouble."
   ]
  },
  {
   "cell_type": "markdown",
   "metadata": {},
   "source": [
    "## Corrections\n",
    "I got a 62/66 so I only got 4 questions wrong. I will be correcting those and explaining the correct answer below."
   ]
  },
  {
   "cell_type": "markdown",
   "metadata": {},
   "source": [
    "### Question 16\n",
    "Question: A user reads reviews of a popular artist's new album and then downloads the album from the Web site of a licensed online music seller. Which of the following is LEAST likely to he consequence of this action?\n",
    "\n",
    "I put the answer as Album reviews from other people who live nearby will be displayed to the user.\n",
    "The correct answer is that the user would be in violation of DMCA. \n",
    "\n",
    "I don't know why I put the answer that I did it doesn't make much sense when DMCA is one of the answer choices I guess I just wasn't paying attention."
   ]
  },
  {
   "cell_type": "markdown",
   "metadata": {},
   "source": [
    "### Question 43\n",
    "Question: Shows a table of items and their corresponding number of steps that the algorithm takes to sort the different sized lists.\n",
    "\n",
    "I put the answer as The algorithm runs, but not in a reasonable time.\n",
    "The correct answer is that the algorithm would run in a reasonable amount of time.\n",
    "\n",
    "I put this answer because the number of steps was really high so I just went off of that, but CollegeBoard says the correct answer is A because the number of steps in the algorithm is a polynomial. I didn't know that before but now I know it for next time."
   ]
  },
  {
   "cell_type": "markdown",
   "metadata": {},
   "source": [
    "### Question 50\n",
    "Question: It shows a code block called procedure and gives 3 statements about it.\n",
    "\n",
    "I put that the answer was just the first statement.\n",
    "The correct answer is just 2.\n",
    "\n",
    "I put statement 1 because I didn't know what any of the options meant as it said \"binary search\" and \"linear search\" and I decided to not look up what they meant because it would be too easy to do that. I put binary search because it was just true and false and binary is just base 2 so that was the logical conclusion. I now know what they are so now I know how to answer a question like that again.\n"
   ]
  },
  {
   "cell_type": "markdown",
   "metadata": {},
   "source": [
    "### Question 58\n",
    "Question: Lists 3 statements about how the Internet enables crowdsourcing\n",
    "\n",
    "I put 1, 2, and 3 because I thought that all of the statements were true about crowdsourcing\n",
    "The correct answer was just 1 and 2\n",
    "\n",
    "I put this answer because it made sense logically, but after seeing why it was wrong I understand now. I got it wrong because there are some problems that cannot be solved in reasonable time even if there are large amounts of people working on it. I think that statement was just too broad to be true so I need to look out for that next time."
   ]
  }
 ],
 "metadata": {
  "language_info": {
   "name": "python"
  }
 },
 "nbformat": 4,
 "nbformat_minor": 2
}
