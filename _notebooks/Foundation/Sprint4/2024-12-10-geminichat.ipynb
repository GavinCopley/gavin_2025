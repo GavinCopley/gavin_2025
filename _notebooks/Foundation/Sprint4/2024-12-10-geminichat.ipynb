{
 "cells": [
  {
   "cell_type": "markdown",
   "metadata": {},
   "source": [
    "---\n",
    "layout: post\n",
    "toc: true\n",
    "title: Testing Gemini API\n",
    "description: Using government API to decode VIN numbers\n",
    "courses: { csp: { week: 14 } }\n",
    "type: collab \n",
    "---"
   ]
  },
  {
   "cell_type": "code",
   "execution_count": null,
   "metadata": {},
   "outputs": [
    {
     "name": "stdout",
     "output_type": "stream",
     "text": [
      "Artificial intelligence (AI) is a broad field encompassing many techniques, but at its core, it's about creating systems that can perform tasks that typically require human intelligence.  These tasks include things like learning, reasoning, problem-solving, perception, and natural language understanding.  There's no single \"how it works\" answer, as different AI approaches use different methods. However, we can break it down into key concepts:\n",
      "\n",
      "**1. Data as the Foundation:** AI systems learn from data.  The more data they are trained on, the better they generally perform. This data can be anything from images and text to sensor readings and financial transactions. The quality and quantity of data are crucial.\n",
      "\n",
      "**2. Algorithms: The Recipe for Learning:** Algorithms are sets of rules and statistical techniques that allow AI systems to learn from data.  These algorithms analyze the data, identify patterns, and make predictions or decisions.  Different types of AI use different algorithms:\n",
      "\n",
      "* **Machine Learning (ML):** This is a subset of AI where systems learn from data without explicit programming.  Instead of being explicitly programmed with rules, ML algorithms identify patterns and relationships in the data to build models that can make predictions or classifications.  Examples include:\n",
      "    * **Supervised Learning:** The algorithm is trained on labeled data (data where the correct answer is already known).  It learns to map inputs to outputs.  Example: training an image classifier with images labeled as \"cat\" or \"dog.\"\n",
      "    * **Unsupervised Learning:** The algorithm is trained on unlabeled data and tries to find structure or patterns in the data.  Example: clustering similar customers based on their purchasing history.\n",
      "    * **Reinforcement Learning:** The algorithm learns through trial and error by interacting with an environment.  It receives rewards for good actions and penalties for bad actions, learning to maximize its cumulative reward. Example: training a robot to navigate a maze.\n",
      "\n",
      "* **Deep Learning (DL):** A subfield of ML that uses artificial neural networks with multiple layers (hence \"deep\").  These networks are inspired by the structure and function of the human brain and are particularly good at handling complex data like images, audio, and text.  Examples include image recognition, natural language processing, and speech recognition.\n",
      "\n",
      "* **Expert Systems:**  These systems mimic the decision-making ability of a human expert in a specific domain.  They use a set of rules and knowledge base to provide advice or make decisions.\n",
      "\n",
      "**3. Models: The Learned Representation:**  Through training with algorithms and data, AI systems create models.  These models are mathematical representations of the patterns and relationships learned from the data.  They are used to make predictions or decisions on new, unseen data.\n",
      "\n",
      "**4. Inference/Prediction:**  Once a model is trained, it can be used to make inferences or predictions on new data. This is the process of using the learned model to analyze new input and produce an output.\n",
      "\n",
      "**5. Evaluation and Improvement:** The performance of an AI system is continuously evaluated, and the models are often refined and improved based on the results.  This iterative process of training, evaluation, and improvement is crucial for developing effective AI systems.\n",
      "\n",
      "\n",
      "In short, AI works by using algorithms to analyze data, learn patterns, build models, and make predictions or decisions. The complexity and sophistication of these systems vary widely, from simple rule-based systems to highly complex deep learning models.  The key ingredients are data, algorithms, and the iterative process of learning and refinement.\n",
      "\n"
     ]
    }
   ],
   "source": [
    "import google.generativeai as genai\n",
    "\n",
    "genai.configure(api_key=\"API_KEY\")\n",
    "model = genai.GenerativeModel(\"gemini-1.5-flash\")\n",
    "response = model.generate_content(\"Explain how AI works\")\n",
    "print(response.text)"
   ]
  }
 ],
 "metadata": {
  "kernelspec": {
   "display_name": "venv",
   "language": "python",
   "name": "python3"
  },
  "language_info": {
   "codemirror_mode": {
    "name": "ipython",
    "version": 3
   },
   "file_extension": ".py",
   "mimetype": "text/x-python",
   "name": "python",
   "nbconvert_exporter": "python",
   "pygments_lexer": "ipython3",
   "version": "3.12.5"
  }
 },
 "nbformat": 4,
 "nbformat_minor": 2
}
