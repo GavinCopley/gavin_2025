{
 "cells": [
  {
   "attachments": {},
   "cell_type": "raw",
   "metadata": {
    "vscode": {
     "languageId": "raw"
    }
   },
   "source": [
    "---\n",
    "layout: post\n",
    "title: Sprint 2 Team Blog\n",
    "description: Team Blog for Sprint 2\n",
    "permalink: sprint2/teamblog\n",
    "comments: true\n",
    "type: tangibles\n",
    "courses: { csp: {week: 7} }\n",
    "---"
   ]
  },
  {
   "cell_type": "markdown",
   "metadata": {},
   "source": [
    "## Team Blog Links\n",
    "[Marti](https://martijorbam.github.io/marti_2025/2024/10/14/sprint2_accomplishments_IPYNB_2_.html)\n",
    "<br>\n",
    "[Gyutae](https://gyutaekim1.github.io/Gyutae_2025/2024/10/16/sprint2reflection_IPYNB_2_.html)\n",
    "<br>\n",
    "[Gavin](https://gavincopley.github.io/gavin_2025//sprint2/accomplishments)"
   ]
  }
 ],
 "metadata": {
  "kernelspec": {
   "display_name": "Python 3.8.10 64-bit",
   "language": "python",
   "name": "python3"
  },
  "language_info": {
   "codemirror_mode": {
    "name": "ipython",
    "version": 3
   },
   "file_extension": ".py",
   "mimetype": "text/x-python",
   "name": "python",
   "nbconvert_exporter": "python",
   "pygments_lexer": "ipython3",
   "version": "3.12.5"
  },
  "vscode": {
   "interpreter": {
    "hash": "916dbcbb3f70747c44a77c7bcd40155683ae19c65e1c03b4aa3499c5328201f1"
   }
  }
 },
 "nbformat": 4,
 "nbformat_minor": 2
}
