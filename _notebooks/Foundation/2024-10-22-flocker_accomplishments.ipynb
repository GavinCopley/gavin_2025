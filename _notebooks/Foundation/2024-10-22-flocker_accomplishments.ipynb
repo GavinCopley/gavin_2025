{
 "cells": [
  {
   "cell_type": "markdown",
   "metadata": {},
   "source": [
    "---\n",
    "layout: post\n",
    "title: Flocker Accomplishments\n",
    "description: Collaboration and such\n",
    "type: issues\n",
    "comments: true\n",
    "categories: [Collaboration]\n",
    "type: tangibles\n",
    "courses: { csp: {week: 10} }\n",
    "permalink: sprint3/accomplishments\n",
    "---"
   ]
  },
  {
   "cell_type": "markdown",
   "metadata": {},
   "source": [
    "# Accomplishments\n",
    "We have built a very nice room in Flocker. It can be seen [here](https://nighthawkcoders.github.io/flocker_frontend/shared_interests/football/). We have a chat that isn't live yet but the frontend basics are there and it has a strong foundation. We have the ability for people to add posts that store to their local computer. The posts have reactions which also save. It is a very strong foundation upon which the backend could make this flocker room into something great. My team and I have made great strides in making something worth being proud of."
   ]
  }
 ],
 "metadata": {
  "language_info": {
   "name": "python"
  }
 },
 "nbformat": 4,
 "nbformat_minor": 2
}
