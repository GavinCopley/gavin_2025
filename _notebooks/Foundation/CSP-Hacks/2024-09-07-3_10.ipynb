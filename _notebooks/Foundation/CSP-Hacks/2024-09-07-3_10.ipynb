{
 "cells": [
  {
   "cell_type": "raw",
   "metadata": {
    "vscode": {
     "languageId": "raw"
    }
   },
   "source": [
    "---\n",
    "layout: post\n",
    "title: 3.10 Hacks\n",
    "description: hacks\n",
    "type: hacks\n",
    "comments: true\n",
    "categories: [DevOps]\n",
    "permalink: /bigideas/3.10/hacks\n",
    "menu: nav/bigideas3hacks.html\n",
    "---"
   ]
  },
  {
   "cell_type": "markdown",
   "metadata": {},
   "source": [
    "## Popcorn Hacks"
   ]
  },
  {
   "cell_type": "markdown",
   "metadata": {},
   "source": [
    "### Popcorn Hack 1"
   ]
  },
  {
   "cell_type": "code",
   "execution_count": 15,
   "metadata": {},
   "outputs": [
    {
     "name": "stdout",
     "output_type": "stream",
     "text": [
      "Initial list: [1, 2, 3, 'apple', 'samsung']\n",
      "Appended list: [1, 2, 3, 'apple', 'samsung', 'huawei']\n"
     ]
    }
   ],
   "source": [
    "aList = [1, 2, 3, 'apple', 'samsung']\n",
    "print('Initial list:', aList)\n",
    "\n",
    "aList.append('huawei')\n",
    "print('Appended list:', aList)"
   ]
  },
  {
   "cell_type": "markdown",
   "metadata": {},
   "source": [
    "### Popcorn Hack 2"
   ]
  },
  {
   "cell_type": "code",
   "execution_count": 16,
   "metadata": {},
   "outputs": [
    {
     "name": "stdout",
     "output_type": "stream",
     "text": [
      "Initial list: ['apple', 'samsung', 'huawei', 'oneplus', 'pixel']\n",
      "Huawei gone list: ['apple', 'samsung', 'oneplus', 'pixel']\n",
      "Index 0 gone list: ['samsung', 'oneplus', 'pixel']\n"
     ]
    }
   ],
   "source": [
    "aList = ['apple', 'samsung', 'huawei', 'oneplus', 'pixel']\n",
    "print('Initial list:', aList)\n",
    "\n",
    "aList.remove('huawei')\n",
    "print('Huawei gone list:', aList)\n",
    "\n",
    "del aList[0]\n",
    "print('Index 0 gone list:', aList)"
   ]
  },
  {
   "cell_type": "markdown",
   "metadata": {},
   "source": [
    "### Popcorn Hack 3"
   ]
  },
  {
   "cell_type": "code",
   "execution_count": 19,
   "metadata": {},
   "outputs": [
    {
     "name": "stdout",
     "output_type": "stream",
     "text": [
      "Initial list: ['apple', 'samsung', 'huawei']\n",
      "Samsung replaced with pixel list: ['apple', 'pixel', 'huawei']\n"
     ]
    }
   ],
   "source": [
    "aList = ['apple', 'samsung', 'huawei']\n",
    "print('Initial list:', aList)\n",
    "aList[1] = 'pixel'\n",
    "print('Samsung replaced with pixel list:', aList)"
   ]
  },
  {
   "cell_type": "markdown",
   "metadata": {},
   "source": [
    "## Homework Hack"
   ]
  },
  {
   "cell_type": "code",
   "execution_count": 25,
   "metadata": {},
   "outputs": [
    {
     "name": "stdout",
     "output_type": "stream",
     "text": [
      "Sum of even numbers in the list: 42\n",
      "Minimum value in the list: 1\n",
      "Maximum value in the list: 12\n"
     ]
    }
   ],
   "source": [
    "aList = [12, 2, 3, 4, 5, 6, 7, 8, 9, 10, 11, 1]\n",
    "\n",
    "even_sum = 0\n",
    "\n",
    "for score in aList:\n",
    "   if score % 2 == 0:\n",
    "       even_sum += score\n",
    "\n",
    "min_value = min(aList)\n",
    "max_value = max(aList)\n",
    "\n",
    "print(\"Sum of even numbers in the list:\", even_sum)\n",
    "print(\"Minimum value in the list:\", min_value)\n",
    "print(\"Maximum value in the list:\", max_value)"
   ]
  }
 ],
 "metadata": {
  "kernelspec": {
   "display_name": "venv",
   "language": "python",
   "name": "python3"
  },
  "language_info": {
   "codemirror_mode": {
    "name": "ipython",
    "version": 3
   },
   "file_extension": ".py",
   "mimetype": "text/x-python",
   "name": "python",
   "nbconvert_exporter": "python",
   "pygments_lexer": "ipython3",
   "version": "3.12.5"
  }
 },
 "nbformat": 4,
 "nbformat_minor": 2
}
