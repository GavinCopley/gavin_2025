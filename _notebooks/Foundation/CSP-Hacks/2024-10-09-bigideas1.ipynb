{
 "cells": [
  {
   "cell_type": "raw",
   "metadata": {
    "vscode": {
     "languageId": "raw"
    }
   },
   "source": [
    "---\n",
    "layout: post\n",
    "title: Big Ideas 3.# Hacks\n",
    "description: Hacks for Big Ideas 3\n",
    "type: hacks\n",
    "comments: true\n",
    "categories: [DevOps]\n",
    "courses: { csp: {week: 7} }\n",
    "permalink: /bigideas/3/hacks\n",
    "menu: nav/bigideas3hacks.html\n",
    "---"
   ]
  },
  {
   "cell_type": "markdown",
   "metadata": {},
   "source": [
    "## Use the nav menu above"
   ]
  }
 ],
 "metadata": {
  "language_info": {
   "name": "python"
  }
 },
 "nbformat": 4,
 "nbformat_minor": 2
}
