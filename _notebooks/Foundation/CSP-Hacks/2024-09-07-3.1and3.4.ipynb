{
 "cells": [
  {
   "cell_type": "raw",
   "metadata": {
    "vscode": {
     "languageId": "raw"
    }
   },
   "source": [
    "---\n",
    "layout: post\n",
    "title: 3.1 Hacks\n",
    "description: hacks\n",
    "type: hacks\n",
    "comments: true\n",
    "categories: [DevOps]\n",
    "courses: { csp: {week: 7} }\n",
    "permalink: /bigideas/3.1/hacks\n",
    "---"
   ]
  },
  {
   "cell_type": "markdown",
   "metadata": {},
   "source": [
    "## Popcorn Hack 3.1"
   ]
  },
  {
   "cell_type": "code",
   "execution_count": 2,
   "metadata": {},
   "outputs": [
    {
     "name": "stdout",
     "output_type": "stream",
     "text": [
      "['Hey', 'Gavin', '16']\n",
      "{'Gavin', 'Hey', '16'}\n",
      "Hey, my name is Gavin and I am 16 years old.\n"
     ]
    }
   ],
   "source": [
    "var1 = input(\"How would you greet someone? e.g. 'Hello'\")\n",
    "var2 = input(\"What is your name?:\")\n",
    "var3 = input(\"What is your age?\")\n",
    "\n",
    "my_list = [var1, var2, var3]\n",
    "\n",
    "my_dict = {\n",
    "    var1,\n",
    "    var2,\n",
    "    var3\n",
    "}\n",
    "\n",
    "print(my_list)\n",
    "print(my_dict)\n",
    "\n",
    "print(var1 + \", \" + \"my name is \" + var2 + \" and I am \" + var3 + \" years old.\")"
   ]
  },
  {
   "cell_type": "markdown",
   "metadata": {},
   "source": [
    "## Popcorn Hack 3.4"
   ]
  },
  {
   "cell_type": "code",
   "execution_count": 1,
   "metadata": {},
   "outputs": [
    {
     "name": "stdout",
     "output_type": "stream",
     "text": [
      "String 1: This is a string number 1\n",
      "Length: 25\n",
      "Vowel Count: 6\n",
      "Average Word Count: 3.3333333333333335\n",
      "Palindrome or Not? False\n",
      "String 2: This is a string number 2\n",
      "Length: 25\n",
      "Vowel Count: 6\n",
      "Average Word Count: 3.3333333333333335\n",
      "Palindrome or Not? False\n"
     ]
    }
   ],
   "source": [
    "string = \"This is a string number 1\"\n",
    "string2 = \"This is a string number 2\"\n",
    "print(\"String 1: This is a string number 1\")\n",
    "length = len(string)\n",
    "print(\"Length:\", length)\n",
    "def count_vowels(input_string):\n",
    "    vowels = 'aeiouAEIOU'\n",
    "    count = 0\n",
    "    for char in input_string:\n",
    "        if char in vowels:\n",
    "            count += 1\n",
    "    return count\n",
    "print(\"Vowel Count:\", count_vowels(string))\n",
    "def average_word_length(input_string):\n",
    "    words = input_string.split()\n",
    "    if not words:\n",
    "        return 0\n",
    "    total_length = sum(len(word) for word in words)\n",
    "    average_length = total_length / len(words)\n",
    "    return average_length\n",
    "print(\"Average Word Count:\", average_word_length(string))\n",
    "def palindrome(input_string):\n",
    "    string = input_string.replace(\" \",\"\").lower()\n",
    "    return string == string[::-1]\n",
    "print(\"Palindrome or Not?\", palindrome(string))\n",
    "print(\"String 2: This is a string number 2\")\n",
    "length2 = len(string2)\n",
    "print(\"Length:\", length2)\n",
    "print(\"Vowel Count:\", count_vowels(string2))\n",
    "print(\"Average Word Count:\", average_word_length(string2))\n",
    "print(\"Palindrome or Not?\", palindrome(string2))"
   ]
  },
  {
   "cell_type": "markdown",
   "metadata": {},
   "source": [
    "## Homework Hack 3.1"
   ]
  },
  {
   "cell_type": "code",
   "execution_count": 13,
   "metadata": {
    "vscode": {
     "languageId": "javascript"
    }
   },
   "outputs": [
    {
     "data": {
      "application/javascript": "let fullName = \"John Doe\";\nlet age = 28;\nlet email = \"john.doeh@gmail.com\";\nlet hobby = \"Food Tasting\";\nlet dietaryPreferences = \"Vegan\";\n\n// Generate a unique ID: use the length of fullName and age, combined with the first two letters of the hobby.\nlet uniqueID = fullName.length + age + hobby.slice(0, 2).toUpperCase();\n\n// Store data in an object\nlet userInfo = {\n    fullName: fullName,\n    age: age,\n    email: email,\n    hobby: hobby,\n    dietaryPreferences: dietaryPreferences,\n    uniqueID: uniqueID\n};\n\n// Display the information\nlet formattedInfo = `\nPersonal Info:\n- Full Name: ${userInfo.fullName}\n- Age: ${userInfo.age}\n- Email: ${userInfo.email}\n- Hobby: ${userInfo.hobby}\n- Dietary Preferences: ${userInfo.dietaryPreferences}\n- Unique ID: ${userInfo.uniqueID}\n`;\n\nconsole.log(formattedInfo);\n",
      "text/plain": [
       "<IPython.core.display.Javascript object>"
      ]
     },
     "metadata": {},
     "output_type": "display_data"
    }
   ],
   "source": [
    "%%js\n",
    "let fullName = \"John Doe\";\n",
    "let age = 28;\n",
    "let email = \"john.doeh@gmail.com\";\n",
    "let hobby = \"Food Tasting\";\n",
    "let dietaryPreferences = \"Vegan\";\n",
    "\n",
    "// Generate a unique ID: use the length of fullName and age, combined with the first two letters of the hobby.\n",
    "let uniqueID = fullName.length + age + hobby.slice(0, 2).toUpperCase();\n",
    "\n",
    "// Store data in an object\n",
    "let userInfo = {\n",
    "    fullName: fullName,\n",
    "    age: age,\n",
    "    email: email,\n",
    "    hobby: hobby,\n",
    "    dietaryPreferences: dietaryPreferences,\n",
    "    uniqueID: uniqueID\n",
    "};\n",
    "\n",
    "// Display the information\n",
    "let formattedInfo = `\n",
    "Personal Info:\n",
    "- Full Name: ${userInfo.fullName}\n",
    "- Age: ${userInfo.age}\n",
    "- Email: ${userInfo.email}\n",
    "- Hobby: ${userInfo.hobby}\n",
    "- Dietary Preferences: ${userInfo.dietaryPreferences}\n",
    "- Unique ID: ${userInfo.uniqueID}\n",
    "`;\n",
    "\n",
    "console.log(formattedInfo);"
   ]
  },
  {
   "cell_type": "markdown",
   "metadata": {},
   "source": [
    "## Homework Hack 3.4"
   ]
  },
  {
   "cell_type": "code",
   "execution_count": 19,
   "metadata": {
    "vscode": {
     "languageId": "html"
    }
   },
   "outputs": [
    {
     "data": {
      "text/html": [
       "<html>\n",
       "<head>\n",
       "    <title>Password Validator</title>\n",
       "    <style>\n",
       "        .result { color: blue; }\n",
       "        .error { color: red; }\n",
       "    </style>\n",
       "</head>\n",
       "<body>\n",
       "    <h1>Password Validator</h1>\n",
       "    \n",
       "    <form id=\"passwordForm\">\n",
       "        <label for=\"password\">Enter Password:</label>\n",
       "        <input type=\"password\" id=\"password\" name=\"password\" required>\n",
       "        <button type=\"submit\">Validate</button>\n",
       "    </form>\n",
       "    \n",
       "    <div id=\"result\" class=\"result\"></div>\n",
       "\n",
       "    <script>\n",
       "        // Password validator function\n",
       "        function passwordValidator(password) {\n",
       "            // Check for minimum length of 8 characters\n",
       "            if (password.length < 8) {\n",
       "                return \"Password too short. Must be at least 8 characters.\";\n",
       "            }\n",
       "\n",
       "            // Check for both uppercase and lowercase letters\n",
       "            if (password === password.toLowerCase() || password === password.toUpperCase()) {\n",
       "                return \"Password must contain both uppercase and lowercase letters.\";\n",
       "            }\n",
       "\n",
       "            // Check for at least one digit\n",
       "            if (!/\\d/.test(password)) {\n",
       "                return \"Password must contain at least one number.\";\n",
       "            }\n",
       "\n",
       "            // Check for at least one special character\n",
       "            if (!/[!@#$%^&*(),.?\":{}|<>]/.test(password)) {\n",
       "                return \"Password must contain at least one special character.\";\n",
       "            }\n",
       "\n",
       "            // Disallow common weak passwords\n",
       "            const commonPasswords = ['password', '123456', 'qwerty', 'letmein', 'welcome'];\n",
       "            if (commonPasswords.includes(password.toLowerCase())) {\n",
       "                return \"Password is too common. Choose a more secure password.\";\n",
       "            }\n",
       "\n",
       "            // Check for repeated characters (e.g., aaa, 111)\n",
       "            if (/(\\w)\\1\\1/.test(password)) {\n",
       "                return \"Password contains repeated characters (e.g., aaa or 111). Avoid repetition.\";\n",
       "            }\n",
       "\n",
       "            // Optional: Replace '123' with 'abc'\n",
       "            let modifiedPassword = password.replace(\"123\", \"abc\");\n",
       "\n",
       "            // Optional: Split password by spaces and join with hyphens for a fun version\n",
       "            let words = modifiedPassword.split(\" \");\n",
       "            let customizedPassword = words.join(\"-\");\n",
       "\n",
       "            return `Password is valid! This is your password: ${customizedPassword}`;\n",
       "        }\n",
       "\n",
       "        // Handle form submission\n",
       "        document.getElementById('passwordForm').addEventListener('submit', function(event) {\n",
       "            event.preventDefault(); // Prevent form from submitting\n",
       "\n",
       "            // Get the password value\n",
       "            const password = document.getElementById('password').value;\n",
       "            \n",
       "            // Validate the password\n",
       "            const result = passwordValidator(password);\n",
       "            \n",
       "            // Display the result\n",
       "            const resultElement = document.getElementById('result');\n",
       "            if (result.includes('Password is valid')) {\n",
       "                resultElement.classList.remove('error');\n",
       "                resultElement.classList.add('valid');\n",
       "            } else {\n",
       "                resultElement.classList.remove('valid');\n",
       "                resultElement.classList.add('error');\n",
       "            }\n",
       "            resultElement.textContent = result;\n",
       "        });\n",
       "    </script>\n",
       "</body>\n",
       "</html>\n"
      ],
      "text/plain": [
       "<IPython.core.display.HTML object>"
      ]
     },
     "metadata": {},
     "output_type": "display_data"
    }
   ],
   "source": [
    "%%html\n",
    "<html>\n",
    "<head>\n",
    "    <title>Password Validator</title>\n",
    "    <style>\n",
    "        .result { color: blue; }\n",
    "        .error { color: red; }\n",
    "    </style>\n",
    "</head>\n",
    "<body>\n",
    "    <h1>Password Validator</h1>\n",
    "    \n",
    "    <form id=\"passwordForm\">\n",
    "        <label for=\"password\">Enter Password:</label>\n",
    "        <input type=\"password\" id=\"password\" name=\"password\" required>\n",
    "        <button type=\"submit\">Validate</button>\n",
    "    </form>\n",
    "    \n",
    "    <div id=\"result\" class=\"result\"></div>\n",
    "\n",
    "    <script>\n",
    "        function passwordValidator(password) {\n",
    "            // check for min length of 8 characters\n",
    "            if (password.length < 8) {\n",
    "                return \"Password too short. Must be at least 8 characters.\";\n",
    "            }\n",
    "\n",
    "            // check for both uppercase and lowercase letters\n",
    "            if (password === password.toLowerCase() || password === password.toUpperCase()) {\n",
    "                return \"Password must contain both uppercase and lowercase letters.\";\n",
    "            }\n",
    "\n",
    "            // check for at least one digit\n",
    "            if (!/\\d/.test(password)) {\n",
    "                return \"Password must contain at least one number.\";\n",
    "            }\n",
    "\n",
    "            // check for at least one special character\n",
    "            if (!/[!@#$%^&*(),.?\":{}|<>]/.test(password)) {\n",
    "                return \"Password must contain at least one special character.\";\n",
    "            }\n",
    "\n",
    "            // disallow common weak passwords\n",
    "            const commonPasswords = ['password', '123456', 'qwerty', 'letmein', 'welcome'];\n",
    "            if (commonPasswords.includes(password.toLowerCase())) {\n",
    "                return \"Password is too common. Choose a more secure password.\";\n",
    "            }\n",
    "\n",
    "            // check for repeated characters\n",
    "            if (/(\\w)\\1\\1/.test(password)) {\n",
    "                return \"Password contains repeated characters (e.g., aaa or 111). Avoid repetition.\";\n",
    "            }\n",
    "\n",
    "            let customizedPassword = words.join(\"-\");\n",
    "            return `Password is valid! This is your password: ${customizedPassword}`;\n",
    "        }\n",
    "\n",
    "        // form submission\n",
    "        document.getElementById('passwordForm').addEventListener('submit', function(event) {\n",
    "            event.preventDefault();\n",
    "\n",
    "            const password = document.getElementById('password').value;\n",
    "            \n",
    "            const result = passwordValidator(password);\n",
    "            \n",
    "            const resultElement = document.getElementById('result');\n",
    "            if (result.includes('Password is valid')) {\n",
    "                resultElement.classList.remove('error');\n",
    "                resultElement.classList.add('valid');\n",
    "            } else {\n",
    "                resultElement.classList.remove('valid');\n",
    "                resultElement.classList.add('error');\n",
    "            }\n",
    "            resultElement.textContent = result;\n",
    "        });\n",
    "    </script>\n",
    "</body>\n",
    "</html>"
   ]
  }
 ],
 "metadata": {
  "kernelspec": {
   "display_name": "venv",
   "language": "python",
   "name": "python3"
  },
  "language_info": {
   "codemirror_mode": {
    "name": "ipython",
    "version": 3
   },
   "file_extension": ".py",
   "mimetype": "text/x-python",
   "name": "python",
   "nbconvert_exporter": "python",
   "pygments_lexer": "ipython3",
   "version": "3.12.5"
  }
 },
 "nbformat": 4,
 "nbformat_minor": 2
}
