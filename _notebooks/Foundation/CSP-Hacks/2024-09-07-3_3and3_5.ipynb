{
 "cells": [
  {
   "cell_type": "raw",
   "metadata": {
    "vscode": {
     "languageId": "raw"
    }
   },
   "source": [
    "---\n",
    "layout: post\n",
    "title: 3.3 and 3.5 Hacks\n",
    "description: hacks\n",
    "type: hacks\n",
    "comments: true\n",
    "categories: [DevOps]\n",
    "permalink: /bigideas/3.3/hacks\n",
    "menu: nav/bigideas3hacks.html\n",
    "---"
   ]
  },
  {
   "cell_type": "markdown",
   "metadata": {},
   "source": [
    "## Popcorn Hacks 3.3"
   ]
  },
  {
   "cell_type": "markdown",
   "metadata": {},
   "source": [
    "### Popcorn Hack 1"
   ]
  },
  {
   "cell_type": "code",
   "execution_count": 3,
   "metadata": {},
   "outputs": [
    {
     "name": "stdout",
     "output_type": "stream",
     "text": [
      "28\n"
     ]
    }
   ],
   "source": [
    "def output(x):\n",
    "    print(3 * (x + 9) - 5)\n",
    "\n",
    "output(2)"
   ]
  },
  {
   "cell_type": "markdown",
   "metadata": {},
   "source": [
    "### Popcorn Hack 2"
   ]
  },
  {
   "cell_type": "code",
   "execution_count": 5,
   "metadata": {},
   "outputs": [
    {
     "name": "stdout",
     "output_type": "stream",
     "text": [
      "1\n",
      "81\n"
     ]
    }
   ],
   "source": [
    "number1 = 11\n",
    "number2 = 5\n",
    "number3 = number1 % number2\n",
    "number4 = number3 * number1 + 70\n",
    "print(number3)\n",
    "print(number4)"
   ]
  },
  {
   "cell_type": "markdown",
   "metadata": {},
   "source": [
    "### Popcorn Hack 3"
   ]
  },
  {
   "cell_type": "code",
   "execution_count": 6,
   "metadata": {},
   "outputs": [
    {
     "name": "stdout",
     "output_type": "stream",
     "text": [
      "The remainder when 17 is divided by 3 is 2\n",
      "The remainder when 10 is divided by 3 is 1\n",
      "The remainder when 20 is divided by 3 is 2\n",
      "The remainder when 43 is divided by 3 is 1\n"
     ]
    }
   ],
   "source": [
    "numbers = [17, 10, 20, 43]\n",
    "\n",
    "for num in numbers:\n",
    "    remainder = num % 3\n",
    "    if remainder == 0:\n",
    "        print(num, \"is divisible by 3\")\n",
    "    else:\n",
    "        print(\"The remainder when\", num, \"is divided by 3 is\", remainder)"
   ]
  },
  {
   "cell_type": "markdown",
   "metadata": {},
   "source": [
    "## Homework Hacks 3.3"
   ]
  },
  {
   "cell_type": "markdown",
   "metadata": {},
   "source": [
    "### Hack 1"
   ]
  },
  {
   "cell_type": "code",
   "execution_count": 4,
   "metadata": {},
   "outputs": [
    {
     "name": "stdout",
     "output_type": "stream",
     "text": [
      "The 10-th Fibonacci number is: 34\n"
     ]
    }
   ],
   "source": [
    "n = 10\n",
    "\n",
    "def fibonacci(n):\n",
    "    if n <= 0:\n",
    "        return \"Input must be a positive integer.\"\n",
    "    elif n == 1:\n",
    "        return 0\n",
    "    elif n == 2:\n",
    "        return 1\n",
    "    else:\n",
    "        a, b = 0, 1\n",
    "        for i in range(2, n):\n",
    "            a, b = b, a + b\n",
    "        return b\n",
    "\n",
    "print(f\"The {n}-th Fibonacci number is: {fibonacci(n)}\")"
   ]
  },
  {
   "cell_type": "markdown",
   "metadata": {},
   "source": [
    "### Hack 2"
   ]
  },
  {
   "cell_type": "code",
   "execution_count": 22,
   "metadata": {},
   "outputs": [
    {
     "name": "stdout",
     "output_type": "stream",
     "text": [
      "The area of the square is: 625.00\n"
     ]
    }
   ],
   "source": [
    "import math\n",
    "\n",
    "def calculate_area():\n",
    "    shape = input(\"Enter the shape (circle, square, rectangle): \").lower()\n",
    "    \n",
    "    if shape == \"circle\":\n",
    "        radius = float(input(\"Enter the radius of the circle: \"))\n",
    "        area = math.pi * (radius ** 2)\n",
    "        print(f\"The area of the circle is: {area:.2f}\")\n",
    "    \n",
    "    elif shape == \"square\":\n",
    "        side = float(input(\"Enter the side length of the square: \"))\n",
    "        area = side ** 2\n",
    "        print(f\"The area of the square is: {area:.2f}\")\n",
    "    \n",
    "    elif shape == \"rectangle\":\n",
    "        length = float(input(\"Enter the length of the rectangle: \"))\n",
    "        width = float(input(\"Enter the width of the rectangle: \"))\n",
    "        area = length * width\n",
    "        print(f\"The area of the rectangle is: {area:.2f}\")\n",
    "    \n",
    "    else:\n",
    "        print(\"Invalid shape.\")\n",
    "\n",
    "calculate_area()"
   ]
  },
  {
   "cell_type": "markdown",
   "metadata": {},
   "source": [
    "## Popcorn Hacks 3.5"
   ]
  },
  {
   "cell_type": "markdown",
   "metadata": {},
   "source": [
    "### Popcorn Hack 1"
   ]
  },
  {
   "cell_type": "code",
   "execution_count": 10,
   "metadata": {},
   "outputs": [
    {
     "name": "stdout",
     "output_type": "stream",
     "text": [
      "VariableOne is false!\n",
      "Either variableA or variableB is true\n"
     ]
    }
   ],
   "source": [
    "variableOne = False\n",
    "variableTwo = True\n",
    "\n",
    "if variableOne:\n",
    "    print(\"VariableOne is true!\")\n",
    "else:\n",
    "    print(\"VariableOne is false!\")\n",
    "\n",
    "if variableOne and not variableTwo:\n",
    "    print(\"VariableA is true and VariableTwo is false\")\n",
    "\n",
    "if variableOne or variableTwo:\n",
    "    print(\"Either variableA or variableB is true\")"
   ]
  },
  {
   "cell_type": "markdown",
   "metadata": {},
   "source": [
    "### Popcorn Hack 2"
   ]
  },
  {
   "cell_type": "code",
   "execution_count": 19,
   "metadata": {},
   "outputs": [
    {
     "name": "stdout",
     "output_type": "stream",
     "text": [
      "number is greater than number2 (10)!\n"
     ]
    }
   ],
   "source": [
    "number = 11\n",
    "number2 = 10\n",
    "\n",
    "if number > number2:\n",
    "    print(\"number is greater than number2 (10)!\")\n",
    "else:\n",
    "    print(\"number is not greater than number2 (10)!\")"
   ]
  },
  {
   "cell_type": "markdown",
   "metadata": {},
   "source": [
    "### Popcorn Hack 3"
   ]
  },
  {
   "cell_type": "code",
   "execution_count": 18,
   "metadata": {},
   "outputs": [
    {
     "name": "stdout",
     "output_type": "stream",
     "text": [
      "number is not three digits!\n"
     ]
    }
   ],
   "source": [
    "number = 11\n",
    "\n",
    "if number >= 100 and number <= 999:\n",
    "    print(\"number is three digits!\")\n",
    "else:\n",
    "    print(\"number is not three digits!\")"
   ]
  },
  {
   "cell_type": "markdown",
   "metadata": {},
   "source": [
    "## Homework Hacks 3.5"
   ]
  },
  {
   "cell_type": "code",
   "execution_count": 21,
   "metadata": {},
   "outputs": [
    {
     "name": "stdout",
     "output_type": "stream",
     "text": [
      "A      B        Result\n",
      "False  False  True\n",
      "False  True  True\n",
      "True  False  True\n",
      "True  True  True\n"
     ]
    }
   ],
   "source": [
    "def deMorganLaw():\n",
    "    print(\"A      B        Result\")\n",
    "    values = [False, True]\n",
    "    \n",
    "    for A in values:\n",
    "        for B in values:\n",
    "            result = not (A and B) == (not A or not B)\n",
    "            print(f\"{A}  {B}  {result}\")\n",
    "\n",
    "deMorganLaw()"
   ]
  }
 ],
 "metadata": {
  "kernelspec": {
   "display_name": "venv",
   "language": "python",
   "name": "python3"
  },
  "language_info": {
   "codemirror_mode": {
    "name": "ipython",
    "version": 3
   },
   "file_extension": ".py",
   "mimetype": "text/x-python",
   "name": "python",
   "nbconvert_exporter": "python",
   "pygments_lexer": "ipython3",
   "version": "3.12.5"
  }
 },
 "nbformat": 4,
 "nbformat_minor": 2
}
