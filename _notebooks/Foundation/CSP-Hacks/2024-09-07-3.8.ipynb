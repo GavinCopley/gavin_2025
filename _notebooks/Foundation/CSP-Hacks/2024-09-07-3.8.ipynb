{
 "cells": [
  {
   "cell_type": "raw",
   "metadata": {
    "vscode": {
     "languageId": "raw"
    }
   },
   "source": [
    "---\n",
    "layout: post\n",
    "title: 3.8 Hacks\n",
    "description: hacks\n",
    "type: hacks\n",
    "comments: true\n",
    "categories: [DevOps]\n",
    "permalink: /bigideas/3.8/hacks\n",
    "menu: nav/bigideas3hacks.html\n",
    "---"
   ]
  },
  {
   "cell_type": "markdown",
   "metadata": {},
   "source": [
    "## Popcorn Hacks"
   ]
  },
  {
   "cell_type": "markdown",
   "metadata": {},
   "source": [
    "### Popcorn Hack 1"
   ]
  },
  {
   "cell_type": "code",
   "execution_count": 6,
   "metadata": {},
   "outputs": [
    {
     "name": "stdout",
     "output_type": "stream",
     "text": [
      "Child ticket price: $12.49\n",
      "The student discount has brought the price to: $10.00\n"
     ]
    }
   ],
   "source": [
    "\n",
    "base_ticket_price = 24.99\n",
    "\n",
    "age = int(input(\"Please enter your age: \"))\n",
    "\n",
    "if age <= 12:\n",
    "    ticket_price = base_ticket_price * 0.5  # children\n",
    "    print(f\"Child ticket price: ${ticket_price:.2f}\")\n",
    "elif age <= 63:\n",
    "    ticket_price = base_ticket_price  # adults\n",
    "    print(f\"Adult ticket price: ${ticket_price:.2f}\")\n",
    "else:\n",
    "    ticket_price = base_ticket_price * 0.7  # seniors\n",
    "    print(f\"Senior ticket price: ${ticket_price:.2f}\")\n",
    "\n",
    "has_ticket = input(\"Do you have a ticket? (yes/no): \").lower() == \"yes\"\n",
    "\n",
    "if has_ticket:\n",
    "    while True:\n",
    "        is_student = input(\"Are you a student? (yes/no): \").lower()\n",
    "        if is_student == \"yes\":\n",
    "            student_discount = 0.20\n",
    "            final_price = ticket_price * (1 - student_discount)\n",
    "            print(f\"The student discount has brought the price to: ${final_price:.2f}\")\n",
    "            break\n",
    "        elif is_student == \"no\":\n",
    "            print(f\"No student discount applied. The ticket price is: ${ticket_price:.2f}\")\n",
    "            break\n",
    "        else:\n",
    "            print('Invalid response. Please answer with \"yes\" or \"no\".')\n",
    "else:\n",
    "    print(\"You need a ticket to enter.\")"
   ]
  },
  {
   "cell_type": "markdown",
   "metadata": {},
   "source": [
    "### Popcorn Hack 2"
   ]
  },
  {
   "cell_type": "code",
   "execution_count": 7,
   "metadata": {},
   "outputs": [
    {
     "name": "stdout",
     "output_type": "stream",
     "text": [
      "Result: 1.0\n",
      "Operation was successful!\n",
      "The number 10 is even.\n"
     ]
    }
   ],
   "source": [
    "try:\n",
    "    num = int(input(\"Enter a number: \"))\n",
    "    result = 10 / num \n",
    "    print(\"Result:\", result)\n",
    "except ValueError:\n",
    "    print(\"That's not a valid number!\")\n",
    "except ZeroDivisionError:\n",
    "    print(\"You can't divide by zero!\")\n",
    "else:\n",
    "    print(\"Operation was successful!\")\n",
    "\n",
    "    if num % 2 == 0:\n",
    "        print(f\"The number {num} is even.\")\n",
    "    else:\n",
    "        print(f\"The number {num} is odd.\")"
   ]
  },
  {
   "cell_type": "markdown",
   "metadata": {},
   "source": [
    "### Homework Hack"
   ]
  },
  {
   "cell_type": "code",
   "execution_count": 9,
   "metadata": {},
   "outputs": [
    {
     "name": "stdout",
     "output_type": "stream",
     "text": [
      "Try again: The number must be positive.\n",
      "Try again: The number must be positive.\n",
      "Error: That is not a valid number. Please try again.\n",
      "Error: That is not a valid number. Please try again.\n",
      "Error: That is not a valid number. Please try again.\n",
      "Error: That is not a valid number. Please try again.\n",
      "Try again: The number must be positive.\n",
      "Success! You entered a positive number: 2.0\n"
     ]
    }
   ],
   "source": [
    "def get_positive_number():\n",
    "    while True:\n",
    "        user_input = input(\"Please enter a positive number: \")\n",
    "\n",
    "        try:\n",
    "            number = float(user_input)\n",
    "        except ValueError:\n",
    "            print(\"Error: That is not a valid number. Please try again.\")\n",
    "            continue\n",
    "\n",
    "        if number > 0:\n",
    "            print(f\"Success! You entered a positive number: {number}\")\n",
    "            break\n",
    "        else:\n",
    "            print(\"Try again: The number must be positive.\")\n",
    "\n",
    "get_positive_number()"
   ]
  }
 ],
 "metadata": {
  "kernelspec": {
   "display_name": "venv",
   "language": "python",
   "name": "python3"
  },
  "language_info": {
   "codemirror_mode": {
    "name": "ipython",
    "version": 3
   },
   "file_extension": ".py",
   "mimetype": "text/x-python",
   "name": "python",
   "nbconvert_exporter": "python",
   "pygments_lexer": "ipython3",
   "version": "3.12.5"
  }
 },
 "nbformat": 4,
 "nbformat_minor": 2
}
