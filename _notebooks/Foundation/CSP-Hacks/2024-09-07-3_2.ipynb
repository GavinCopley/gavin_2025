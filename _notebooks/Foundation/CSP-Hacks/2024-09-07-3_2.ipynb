{
 "cells": [
  {
   "cell_type": "raw",
   "metadata": {
    "vscode": {
     "languageId": "raw"
    }
   },
   "source": [
    "---\n",
    "layout: post\n",
    "title: 3.2 Hacks\n",
    "description: hacks\n",
    "type: hacks\n",
    "comments: true\n",
    "categories: [DevOps]\n",
    "permalink: /bigideas/3.2/hacks\n",
    "menu: nav/bigideas3hacks.html\n",
    "---"
   ]
  },
  {
   "cell_type": "markdown",
   "metadata": {},
   "source": [
    "## Hacks 3.2"
   ]
  },
  {
   "cell_type": "markdown",
   "metadata": {},
   "source": [
    "### Hack 1"
   ]
  },
  {
   "cell_type": "code",
   "execution_count": 1,
   "metadata": {},
   "outputs": [
    {
     "name": "stdout",
     "output_type": "stream",
     "text": [
      "\n",
      "Luxury Watches:\n",
      " - Rolex Submariner\n",
      " - Omega Seamaster\n",
      " - Patek Philippe Nautilus\n",
      "\n",
      "Smartwatches:\n",
      " - Apple Watch Series 9\n",
      " - Samsung Galaxy Watch 6\n",
      " - Garmin Venu 2\n",
      "\n",
      "Diving Watches:\n",
      " - Seiko Prospex\n",
      " - Citizen Eco-Drive Diver\n",
      " - Longines HydroConquest\n",
      "\n",
      "Pilot Watches:\n",
      " - Breitling Navitimer\n",
      " - IWC Big Pilot\n",
      " - Bell & Ross BR 03-92\n"
     ]
    }
   ],
   "source": [
    "watches = {\n",
    "    \"Luxury Watches\": [\"Rolex Submariner\", \"Omega Seamaster\", \"Patek Philippe Nautilus\"],\n",
    "    \"Smartwatches\": [\"Apple Watch Series 9\", \"Samsung Galaxy Watch 6\", \"Garmin Venu 2\"],\n",
    "    \"Diving Watches\": [\"Seiko Prospex\", \"Citizen Eco-Drive Diver\", \"Longines HydroConquest\"],\n",
    "    \"Pilot Watches\": [\"Breitling Navitimer\", \"IWC Big Pilot\", \"Bell & Ross BR 03-92\"]\n",
    "}\n",
    "\n",
    "def print_watches(watch_collection):\n",
    "    for category, items in watch_collection.items():\n",
    "        print(f\"\\n{category}:\")\n",
    "        for item in items:\n",
    "            print(f\" - {item}\")\n",
    "            \n",
    "print_watches(watches)\n"
   ]
  },
  {
   "cell_type": "markdown",
   "metadata": {},
   "source": [
    "### Hack 2"
   ]
  },
  {
   "cell_type": "code",
   "execution_count": 2,
   "metadata": {},
   "outputs": [
    {
     "name": "stdout",
     "output_type": "stream",
     "text": [
      "['Frontend Development', 'Github Pages Playground', 'Javascript Playground', 'SASS Basics']\n",
      "True\n"
     ]
    }
   ],
   "source": [
    "sprints = {\n",
    "    'Sprint1': ['Frontend Development', 'Github Pages Playground', 'Javascript Playground', 'SASS Basics'],\n",
    "    'Sprint2': ['Big Ideas 3.6', 'Big Ideas 3.7']\n",
    "}\n",
    "\n",
    "print(sprints['Sprint1'])\n",
    "if \"Frontend Development\" in sprints['Sprint1']:\n",
    "    print(True) \n",
    "else:\n",
    "    print(False)\n",
    "    \n",
    "print(sprints['Sprint1'])\n",
    "if \"Frontend Development\" in sprints['Sprint1']:\n",
    "    print(True) \n",
    "else:\n",
    "    print(False)"
   ]
  },
  {
   "cell_type": "markdown",
   "metadata": {},
   "source": [
    "### Hack 3"
   ]
  },
  {
   "cell_type": "code",
   "execution_count": 3,
   "metadata": {},
   "outputs": [
    {
     "name": "stdout",
     "output_type": "stream",
     "text": [
      "Title: Inception\n",
      "Director: Christopher Nolan\n",
      "Genre: Science Fiction\n",
      "Copies Available: 3\n",
      "Borrowers:\n",
      " - Alice Smith (Borrowed on: 2024-09-20)\n",
      " - Bob Johnson (Borrowed on: 2024-09-25)\n",
      "\n",
      "\n",
      "Title: The Shawshank Redemption\n",
      "Director: Frank Darabont\n",
      "Genre: Drama\n",
      "Copies Available: 2\n",
      "Borrowers:\n",
      " - Carlos Martinez (Borrowed on: 2024-09-15)\n",
      "\n",
      "\n",
      "Title: The Dark Knight\n",
      "Director: Christopher Nolan\n",
      "Genre: Action\n",
      "Copies Available: 1\n",
      "Borrowers:\n",
      " - Diana Lee (Borrowed on: 2024-09-10)\n",
      "\n",
      "\n"
     ]
    }
   ],
   "source": [
    "movie_library = [\n",
    "    {\n",
    "        \"title\": \"Inception\",\n",
    "        \"director\": \"Christopher Nolan\",\n",
    "        \"genre\": \"Science Fiction\",\n",
    "        \"copies_available\": 3,\n",
    "        \"borrowers\": [\n",
    "            {\"name\": \"Alice Smith\", \"borrow_date\": \"2024-09-20\"},\n",
    "            {\"name\": \"Bob Johnson\", \"borrow_date\": \"2024-09-25\"}\n",
    "        ]\n",
    "    },\n",
    "    {\n",
    "        \"title\": \"The Shawshank Redemption\",\n",
    "        \"director\": \"Frank Darabont\",\n",
    "        \"genre\": \"Drama\",\n",
    "        \"copies_available\": 2,\n",
    "        \"borrowers\": [\n",
    "            {\"name\": \"Carlos Martinez\", \"borrow_date\": \"2024-09-15\"}\n",
    "        ]\n",
    "    },\n",
    "    {\n",
    "        \"title\": \"The Dark Knight\",\n",
    "        \"director\": \"Christopher Nolan\",\n",
    "        \"genre\": \"Action\",\n",
    "        \"copies_available\": 1,\n",
    "        \"borrowers\": [\n",
    "            {\"name\": \"Diana Lee\", \"borrow_date\": \"2024-09-10\"},\n",
    "        ]\n",
    "    }\n",
    "]\n",
    "\n",
    "for movie in movie_library:\n",
    "    print(f\"Title: {movie['title']}\")\n",
    "    print(f\"Director: {movie['director']}\")\n",
    "    print(f\"Genre: {movie['genre']}\")\n",
    "    print(f\"Copies Available: {movie['copies_available']}\")\n",
    "    print(\"Borrowers:\")\n",
    "    for borrower in movie['borrowers']:\n",
    "        print(f\" - {borrower['name']} (Borrowed on: {borrower['borrow_date']})\")\n",
    "    print(\"\\n\")"
   ]
  }
 ],
 "metadata": {
  "kernelspec": {
   "display_name": "venv",
   "language": "python",
   "name": "python3"
  },
  "language_info": {
   "codemirror_mode": {
    "name": "ipython",
    "version": 3
   },
   "file_extension": ".py",
   "mimetype": "text/x-python",
   "name": "python",
   "nbconvert_exporter": "python",
   "pygments_lexer": "ipython3",
   "version": "3.12.5"
  }
 },
 "nbformat": 4,
 "nbformat_minor": 2
}
