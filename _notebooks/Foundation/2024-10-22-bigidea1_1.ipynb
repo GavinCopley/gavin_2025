{
 "cells": [
  {
   "cell_type": "markdown",
   "metadata": {},
   "source": [
    "---\n",
    "layout: post\n",
    "title: Big Idea 1.1 Collaboration\n",
    "description: Collaboration and such\n",
    "type: issues\n",
    "comments: true\n",
    "categories: [Collaboration]\n",
    "type: tangibles\n",
    "courses: { csp: {week: 8} }\n",
    "permalink: sprint3/1_1\n",
    "---"
   ]
  },
  {
   "cell_type": "markdown",
   "metadata": {},
   "source": [
    "## Collaboration\n",
    "From my perspective, collaboration has been the key to developing our Flocker Room project. With the collaboration of my teammates, Marti, Zaid, and Gyutae, we can merge our different skills into one and make the project stronger. Marti and Zaid handle the backend, while Gyutae and I do the frontend; each one of us has different ideas and ways of approaching things. First, we made plans of what to do on Canva after researching some websites to see what it could look like before we actually started coding so we could easily manipulate the elements to make them look different. Then, I made a static framework of the room design to begin the visualization of the frontend before the complete setup of the backend. This will make it easy for us to integrate the backend later.\n",
    "\n",
    "Gyutae met with Mort on Wednesday to learn how to work the backend and frontend so he could share that knowledge with the rest of us, so we would have all of our stuff set up correctly. That was a great example of collaboration because it kept issues from coming up later on in the project, making sure we were on the same technical page.\n",
    "\n",
    "Setting up a Postman account and inviting everyone to join the latter was helpful in testing the endpoints collaboratively. Effective communication, along with consensus-building and negotiation, has been key in agreeing on such things as the direction of the project, questions about design, and the determination of features to emphasize.\n",
    "\n",
    "This is finally what working in a team provides: an opportunity to play to our strengths while developing a project that reflects the collective effort and talents of its members."
   ]
  }
 ],
 "metadata": {
  "language_info": {
   "name": "python"
  }
 },
 "nbformat": 4,
 "nbformat_minor": 2
}
