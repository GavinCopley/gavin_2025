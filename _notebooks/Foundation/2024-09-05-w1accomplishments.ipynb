{
 "cells": [
  {
   "cell_type": "raw",
   "metadata": {
    "vscode": {
     "languageId": "raw"
    }
   },
   "source": [
    "---\n",
    "layout: post\n",
    "title: Week 1 Accomplishments\n",
    "description:  These are all of my accomplishments of week 1\n",
    "type: tangibles\n",
    "comments: true\n",
    "categories: [DevOps]\n",
    "courses: { csp: {week: 1} }\n",
    "menu: nav/review_tickets/w1_accomplishments.html\n",
    "permalink: accomplishments/week1\n",
    "---"
   ]
  },
  {
   "cell_type": "markdown",
   "metadata": {},
   "source": [
    "## So Many!\n",
    "I have added many customization changes as well as posts. I have added many key things, like the Post Library that will be incredibly useful for staying organized."
   ]
  },
  {
   "cell_type": "markdown",
   "metadata": {},
   "source": [
    "## Customization\n",
    "- new favicon.ico for the webiste. It is a globe, not because it has any significance, but just because it looks nice\n",
    "- I changed the theme to Cayman because it is very nice to look at, is simple, and is easy to customize\n",
    "- I changed the header color to a nice red to blue gradient\n",
    "- Moved readme to a link in the about page because it was cluttering up the menus\n",
    "- Search bar now has different text\n",
    "- Personlized the config to be me\n",
    "- I added mario to the home page\n",
    "- I added about me to the about menu\n"
   ]
  },
  {
   "cell_type": "markdown",
   "metadata": {},
   "source": [
    "## Functional Changes\n",
    "- Added new \"Post Library\"\n",
    "    - Easier organization and access to specific files\n",
    "    - Got it from the older nighthawk templates\n",
    "- Added new submenu about watches\n",
    "- New nav table for this post\n",
    "- Added abiltiy to use emojis\n",
    "- Added utterances"
   ]
  },
  {
   "cell_type": "code",
   "execution_count": 3,
   "metadata": {},
   "outputs": [
    {
     "name": "stdout",
     "output_type": "stream",
     "text": [
      "👍 Python is awesome! 😀\n"
     ]
    }
   ],
   "source": [
    "from emoji import emojize \n",
    "print(emojize(\":thumbs_up: Python is awesome! :grinning_face:\"))"
   ]
  }
 ],
 "metadata": {
  "kernelspec": {
   "display_name": "venv",
   "language": "python",
   "name": "python3"
  },
  "language_info": {
   "codemirror_mode": {
    "name": "ipython",
    "version": 3
   },
   "file_extension": ".py",
   "mimetype": "text/x-python",
   "name": "python",
   "nbconvert_exporter": "python",
   "pygments_lexer": "ipython3",
   "version": "3.12.5"
  }
 },
 "nbformat": 4,
 "nbformat_minor": 2
}
