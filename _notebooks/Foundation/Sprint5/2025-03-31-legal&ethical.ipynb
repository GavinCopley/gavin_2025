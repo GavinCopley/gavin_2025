{
 "cells": [
  {
   "cell_type": "markdown",
   "metadata": {},
   "source": [
    "---\n",
    "layout: post\n",
    "title: Legal and Ethical Concerns\n",
    "description: hacks\n",
    "type: hacks\n",
    "comments: True\n",
    "categories: ['DevOps']\n",
    "permalink: /csp/lesson/l&e\n",
    "---"
   ]
  },
  {
   "cell_type": "markdown",
   "metadata": {},
   "source": [
    "## Popcorn Hack 1\n",
    "Some ways to protect intellectual property is for example through a patent. A patent can protect intellectual property and by doing this it gives motivation to people to keep creating. A copywrite allows people such as musicians to disallow unauthorized distribution of their songs. Other examples are trademarks and DRM.\n",
    "\n",
    "## Popcorn Hack 2\n",
    "Definition of MIT License: A license for code that allows other people to use your code with certain restrictions, as long as the original license and copywrite notices are included.<br>\n",
    "One for my own repository would protect the work my classmates and I use while still allowing people to take inspiration. It allows me and my teammates to write our own code and encourages collaboration between us because our work is protected.\n",
    "\n",
    "## Popcorn Hack 3\n",
    "Definition of Creative Commons License: A set of public copywrite laws that allows creators to specify how others can use their work<br>\n",
    "Exceptions to the Copy-write law are fair use (for education, research etc.), public domain works, parody or satire, and some use for libraries and archives.\n",
    "\n",
    "## Popcorn Hack 4\n",
    "I talked to Elliot. Ways to prevent copy-write infringement is to check for licenses and to make sure permissions are correct, or create your own content so that there is no way you are able to infringe on someone elses property.\n",
    "\n",
    "## Homework Hack\n",
    "**Selected license:** Apache 2.0<br>\n",
    "**Explanation of Choice:** I chose Apache 2.0 for many reasons. It clearly shows that I was the one who made everything on my personal repo. It also doesn't force me to open source all of my changes which gives me privacy and allows me to modify my code however I want without anyone taking it. This also helps users because it allows them to take my code (and credit me) to be able to learn from it which is a valuable attribute of the Apache 2.0 license. Pilot City project-wise, this helps the user because it protects us from people trying to take our work and lets us develop our product further and further and allows us to work without worry of someone else or one of our collaborators from patenting our work.<br>\n",
    "**Adding the license:** Can be found [HERE](https://github.com/GavinCopley/gavin_2025/blob/main/LICENSE)\n",
    "\n",
    "### Extra Credit\n",
    "**Selected license:** Apache 2.0 <br>\n",
    "**Summary of Project:** Our Pilot City project is called MediPulse and it is a website that uses machine learning, AI, and algorithms to provide the user with the best hospital in the San Diego area for their ailment. We collect their metrics such as weight and height, and we take their ailment (such as an ACL tear) and provide them with the best option to make them better.<br>\n",
    "**Note:** You said it has to be a different license than the personal repo, but we already chose this license a while ago and it works the best for our project.\n",
    "**Adding the License:** Can be found [HERE](https://github.com/GavinCopley/Palomar-MediPulse/blob/main/LICENSE)"
   ]
  }
 ],
 "metadata": {
  "language_info": {
   "name": "python"
  }
 },
 "nbformat": 4,
 "nbformat_minor": 2
}
