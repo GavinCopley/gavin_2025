{
 "cells": [
  {
   "cell_type": "markdown",
   "metadata": {},
   "source": [
    "---\n",
    "toc: false\n",
    "comments: true\n",
    "layout: post\n",
    "title: Self Grade\n",
    "description: Honest Self grade and reflection\n",
    "permalink: /csp/tri2/self-grade\n",
    "menu: nav/tri2review.html\n",
    "---"
   ]
  },
  {
   "cell_type": "markdown",
   "metadata": {},
   "source": [
    "## Self-Grade Table"
   ]
  },
  {
   "cell_type": "markdown",
   "metadata": {},
   "source": [
    "| Item                         | Grade  | Reasoning                                                                                                                                                                                                                                                                                                                               |\n",
    "|------------------------------|--------|-----------------------------------------------------------------------------------------------------------------------------------------------------------------------------------------------------------------------------------------------------------------------------------------------------------------------------------------|\n",
    "| 5 Things                     | 4.35/5 | I have explained well and fully 6 things that I have done over the last 12 weeks, as well as document everything with <br>issues and burndowns using our Kanban board. However, I want to integrate my chatbot with Aarush's mechanic tips, so <br>I won't give myself 5/5.                                                             |\n",
    "| Project Demo + N@TM Feedback | 2/2    | I have not yet presented so I cannot be 100% on this, but I am fairly certain my presentation will be great because I <br>practiced it with two of my team members (Kush and Aarush). I also have a very nice blog on N@TM with a survey that I <br>put a lot of effort into so people can let us know exactly what we need to work on. |\n",
    "| Highlighted Feature          | 1/1    | I have a great blog for the highlighted feature of mine (vinStore) going over what it is and how it fufills the CPT requirements.                                                                                                                                                                                                       |\n",
    "| MCQ                          | 1/1    | I have a blog going over my mistakes, takeaways, what I learned, and what I should look out for on the AP test.                                                                                                                                                                                                                         |\n",
    "| Impress                      | 1/1      | I think I deserve this point because I have done a lot of work for it. I have done a thorough job of making sure my team has been working cohesively this past trimester. I have also practiced the presentation with Kush and Aarush. I went above by creating a survey for people to take at N@TM so we could have concrete data to look back on and have people's unfiltered opinions. I also wrote about my future in computer science and I am happy to have taken it this year as well as CSSE last school year.                                                                                                                                                                                                                                                                                                        |\n",
    "| Total Grade                  | 9.35/10 |                                                                                                                                                                                                                                                                                                                                         |"
   ]
  }
 ],
 "metadata": {
  "language_info": {
   "name": "python"
  }
 },
 "nbformat": 4,
 "nbformat_minor": 2
}
