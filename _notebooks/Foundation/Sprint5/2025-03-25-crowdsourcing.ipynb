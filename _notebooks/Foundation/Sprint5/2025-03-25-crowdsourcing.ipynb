{
 "cells": [
  {
   "cell_type": "markdown",
   "metadata": {},
   "source": [
    "---\n",
    "layout: post\n",
    "title: Crowd Sourcing\n",
    "description: hacks\n",
    "type: hacks\n",
    "comments: True\n",
    "categories: ['DevOps']\n",
    "permalink: /csp/lesson/crowdsourcing\n",
    "---"
   ]
  },
  {
   "cell_type": "markdown",
   "metadata": {},
   "source": [
    "## Popcorn Hack 3\n",
    "Reddit is an example of crowd-sourcing. Reddit is full of random information from a bunch of people on various topics. It uses crowd-sourcing because of its aspect where people make communities and write information, ask questions, and it is fully community-driven."
   ]
  },
  {
   "cell_type": "markdown",
   "metadata": {},
   "source": [
    "## Homework\n",
    "Added:\n",
    "1. Paper Rings - Taylor Swift\n",
    "2. Shake it Off - Taylor Swift\n",
    "Crowd-sourcing is good for the playlist because it will take everyone's ideas of Pop and the playlist will be very diverse with a lot of Pop songs, popular and unpopular."
   ]
  }
 ],
 "metadata": {
  "language_info": {
   "name": "python"
  }
 },
 "nbformat": 4,
 "nbformat_minor": 2
}
