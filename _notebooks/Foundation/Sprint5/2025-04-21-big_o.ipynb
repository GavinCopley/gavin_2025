{
 "cells": [
  {
   "cell_type": "markdown",
   "id": "3bb174da",
   "metadata": {},
   "source": [
    "---\n",
    "layout: post\n",
    "title: Big O\n",
    "description: Algorithm Efficiency\n",
    "type: hacks\n",
    "comments: True\n",
    "categories: ['DevOps']\n",
    "permalink: /bigo\n",
    "---"
   ]
  },
  {
   "cell_type": "markdown",
   "id": "3b4d1632",
   "metadata": {},
   "source": [
    "## Popcorn Hack 1\n",
    "1. Print the third item from the array using constant time (O(1)).\n",
    "2. Print all the items from the array using linear time (O(n))."
   ]
  },
  {
   "cell_type": "code",
   "execution_count": null,
   "id": "cc25a743",
   "metadata": {},
   "outputs": [
    {
     "name": "stdout",
     "output_type": "stream",
     "text": [
      "O(1): 3\n",
      "O(n):\n",
      "1\n",
      "2\n",
      "3\n",
      "4\n",
      "5\n"
     ]
    }
   ],
   "source": [
    "arr = [1, 2, 3, 4, 5]\n",
    "\n",
    "# Constant time O(1)\n",
    "print(\"O(1):\", arr[2])\n",
    "\n",
    "# Linear time O(n)\n",
    "print(\"O(n):\")\n",
    "for num in arr:\n",
    "    print(num)"
   ]
  },
  {
   "cell_type": "markdown",
   "id": "05eb71a5",
   "metadata": {},
   "source": [
    "## Popcorn Hack 2"
   ]
  },
  {
   "cell_type": "code",
   "execution_count": null,
   "id": "888ed7ba",
   "metadata": {},
   "outputs": [
    {
     "name": "stdout",
     "output_type": "stream",
     "text": [
      "(1, 2)\n",
      "(1, 3)\n",
      "(2, 3)\n"
     ]
    }
   ],
   "source": [
    "arr = [1, 2, 3]\n",
    "\n",
    "# Unique pairs\n",
    "def print_unique_pairs(arr):\n",
    "    for i in range(len(arr)):\n",
    "        for j in range(i + 1, len(arr)):\n",
    "            print(f\"({arr[i]}, {arr[j]})\")\n",
    "\n",
    "print(\"Unique Pairs\")\n",
    "print_unique_pairs(arr)"
   ]
  },
  {
   "cell_type": "markdown",
   "id": "3ea23ab0",
   "metadata": {},
   "source": [
    "- The time complexity is O(n^2) because it uses a nested loop and each element is paired with naother one. \n",
    "- Basically, it goes through each element once for the first number, and then again for the paired number"
   ]
  },
  {
   "cell_type": "markdown",
   "id": "a3106822",
   "metadata": {},
   "source": [
    "## Popcorn Hack 3\n",
    "Which of these is inefficient for large inputs?<br>\n",
    "a) Linear Time<br>\n",
    "**b) Factorial Time**<br>\n",
    "c) Constant Time<br>\n",
    "d) Linearithic Time<br>\n",
    "This is because it will grow really fast.<br>\n",
    "\n",
    "Which of these can be represented by a nested loop?<br>\n",
    "a) Logarithmic Time<br>\n",
    "b) Linearithmic Time<br>\n",
    "**c) Quadratic Time**<br>\n",
    "d) Linear Time<br>\n"
   ]
  },
  {
   "cell_type": "markdown",
   "id": "cd8a0963",
   "metadata": {},
   "source": [
    "## Homework Hack"
   ]
  },
  {
   "cell_type": "code",
   "execution_count": 3,
   "id": "ebef5b6b",
   "metadata": {},
   "outputs": [
    {
     "name": "stdout",
     "output_type": "stream",
     "text": [
      "Constant Time Result: 5\n",
      "\n",
      "Linear Time:\n",
      "5\n",
      "10\n",
      "15\n",
      "20\n",
      "25\n",
      "\n",
      "Quadratic Time:\n",
      "(5, 5)\n",
      "(5, 10)\n",
      "(5, 15)\n",
      "(5, 20)\n",
      "(5, 25)\n",
      "(10, 5)\n",
      "(10, 10)\n",
      "(10, 15)\n",
      "(10, 20)\n",
      "(10, 25)\n",
      "(15, 5)\n",
      "(15, 10)\n",
      "(15, 15)\n",
      "(15, 20)\n",
      "(15, 25)\n",
      "(20, 5)\n",
      "(20, 10)\n",
      "(20, 15)\n",
      "(20, 20)\n",
      "(20, 25)\n",
      "(25, 5)\n",
      "(25, 10)\n",
      "(25, 15)\n",
      "(25, 20)\n",
      "(25, 25)\n"
     ]
    }
   ],
   "source": [
    "arr = [5, 10, 15, 20, 25]\n",
    "\n",
    "def time_complexity_demo(arr, complexity_type):\n",
    "    if complexity_type == \"constant\":\n",
    "        return arr[0]\n",
    "    \n",
    "    elif complexity_type == \"linear\":\n",
    "        for number in arr:\n",
    "            print(number)\n",
    "    \n",
    "    elif complexity_type == \"quadratic\":\n",
    "        for i in arr:\n",
    "            for j in arr:\n",
    "                print(f\"({i}, {j})\")\n",
    "\n",
    "print(\"Constant Time Result:\", time_complexity_demo(arr, \"constant\"))\n",
    "print(\"\\nLinear Time:\")\n",
    "time_complexity_demo(arr, \"linear\")\n",
    "print(\"\\nQuadratic Time:\")\n",
    "time_complexity_demo(arr, \"quadratic\")\n"
   ]
  }
 ],
 "metadata": {
  "kernelspec": {
   "display_name": "venv",
   "language": "python",
   "name": "python3"
  },
  "language_info": {
   "codemirror_mode": {
    "name": "ipython",
    "version": 3
   },
   "file_extension": ".py",
   "mimetype": "text/x-python",
   "name": "python",
   "nbconvert_exporter": "python",
   "pygments_lexer": "ipython3",
   "version": "3.12.5"
  }
 },
 "nbformat": 4,
 "nbformat_minor": 5
}
