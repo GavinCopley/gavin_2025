{
 "cells": [
  {
   "cell_type": "markdown",
   "metadata": {},
   "source": [
    "---\n",
    "toc: false\n",
    "comments: true\n",
    "layout: post\n",
    "title: Sprint 5 Review\n",
    "description: Review of sprint 5 for review\n",
    "permalink: /csp/sprint5/review\n",
    "courses: { csp: {week: 18} }\n",
    "---"
   ]
  },
  {
   "cell_type": "markdown",
   "metadata": {},
   "source": [
    "## Intro requests for Review\n",
    "- Purpose of Program: To allow users to share their cars and talk about their dream cars with similar interest individuals. Also to get help from knowledgable individuals.\n",
    "- Purpose of Feature: To allow users to send their VIN to us to use on various other parts of the website.\n"
   ]
  },
  {
   "cell_type": "markdown",
   "metadata": {},
   "source": [
    "## Input/Output requests (demo)\n",
    "- Will do this live"
   ]
  },
  {
   "cell_type": "markdown",
   "metadata": {},
   "source": [
    "## List Requests. Use of list, dictionaries, and database\n",
    "- The .md file uses the API to get a response for each of the methods: post, get, put, delete. The post runs a refresh vehicles function with then uses the get to update the table. The get just updates the table. The put sends a request to the server and when the server responds back it updates the table. The delete removes a row from the database and table.\n",
    "- The query in the API code looks for a SQLalchemy model\n",
    "- in the _CRUD class I use the create, read, update, and delete methods to create lists in the database. The methods adds the data to the different dictionaries, like a certain make for the make column, which all add up to create a list for the user.\n"
   ]
  },
  {
   "cell_type": "markdown",
   "metadata": {},
   "source": [
    "## Algorithmic Code Request"
   ]
  },
  {
   "cell_type": "markdown",
   "metadata": {},
   "source": [
    "- This class uses the flask_restful library to handle all of the _CRUD methods\n",
    "\n",
    "- Parameters: body of request; { \"vin\": \"12345678901234567\" } This is an example where the post method accepts a json payload\n",
    "- Return type: returns json via jsonify. Seen with response messages like {\"message\": \"Vehicle not found\"}\n",
    "\n",
    "- The PUT method uses sequencing, selection and iteration. It uses sequencing because it flows from reading, to fetching to updating. It uses selection because it uses checks for user authentication, making sure inputs are correct (like not longer than 17 characters etc) and database queries. It also uses iteration by taking a response from the NHTSA API and extracting data.\n",
    "- The put method is below:"
   ]
  },
  {
   "cell_type": "markdown",
   "metadata": {},
   "source": [
    "## Call to Algorithm Request\n",
    "Example (of post) is below:"
   ]
  },
  {
   "cell_type": "markdown",
   "metadata": {},
   "source": [
    "- The code above calls for the api and gets a response in json. This can then be used to display on the DOM\n",
    "- return/response handling can be seen with successful or failed requests. With a success UI elements will be updates, while on a failure the elements will not be updated except for an error\n",
    "- Changing data or method triggers different responses, as seen with a successful VIN post and an unsuccessful one. Submitting a unique and real VIN will be met with a success message, while a VIN that isn't real or isn't 17 characters long for instance will be met with an error\n",
    "- Normal condition: {\"message\": \"Vehicle added successfully\", \"vehicle\": {\"vin\": \"123...17\", \"make\": \"Toyota\", \"model\": \"Corolla\"}}\n",
    "- Error condition: {\"message\": \"VIN must be 17 characters long\"}"
   ]
  }
 ],
 "metadata": {
  "language_info": {
   "name": "python"
  }
 },
 "nbformat": 4,
 "nbformat_minor": 2
}
