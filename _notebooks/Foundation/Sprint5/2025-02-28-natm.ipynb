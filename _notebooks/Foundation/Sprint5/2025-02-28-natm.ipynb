{
 "cells": [
  {
   "cell_type": "markdown",
   "metadata": {},
   "source": [
    "---\n",
    "toc: false\n",
    "comments: true\n",
    "layout: post\n",
    "title: N@TM\n",
    "description: Tri 2 N@TM\n",
    "permalink: /csp/tri2/n@tm\n",
    "courses: { csp: {week: 18} }\n",
    "menu: nav/csp_units/csp_unit3_p1_fundamentals.html\n",
    "---"
   ]
  },
  {
   "cell_type": "markdown",
   "metadata": {},
   "source": [
    "## N@TM Feedback Survey Data"
   ]
  },
  {
   "cell_type": "markdown",
   "metadata": {},
   "source": [
    "| Timestamp          | Rating based on creativity | Rating based on functionality | Rating based on consistency of design | Rating based on presentation skills | Feedback                                                                 | Additional Comments                                      |\n",
    "|-------------------|------|------|------|------|-----------------------------------------------------------------|------------------------------------------------|\n",
    "| 2/27/2025 19:06:10 | 5    | 5    | 5    | 5    | Presentation overall some technical difficulties                  | N/A                                                |\n",
    "| 2/27/2025 19:06:20 | 5    | 5    | 5    | 5    | Attitude                                                         | Just kiddin                                        |\n",
    "| 2/27/2025 19:06:48 | 1    | 1    | 1    | 1    | Coding skill                                                     | Jk                                                 |\n",
    "| 2/27/2025 19:08:02 | 5    | 5    | 5    | 5    | Nothing it’s good                                                | Mo                                                 |\n",
    "| 2/27/2025 19:08:30 | 5    | 5    | 5    | 5    | Make the flow of the website better by combining pages          | Nope                                              |\n",
    "| 2/27/2025 19:10:47 | 4    | 5    | 5    | 4    | I would like if everyone could present.                          |                                                    |\n",
    "| 2/27/2025 19:13:23 | 5    | 5    | 5    | 5    | Nothing                                                          |                                                    |\n",
    "| 2/27/2025 19:13:46 | 5    | 5    | 5    | 5    | Nothing it was great                                             |                                                    |\n",
    "| 2/27/2025 19:14:33 | 4    | 4    | 5    | 5    | Maybe add some different theme options                           |                                                    |\n",
    "| 2/27/2025 19:16:04 | 5    | 4    | 5    | 5    | Bo                                                               | Yes                                                |\n",
    "| 2/27/2025 19:17:36 | 5    | 5    | 5    | 5    | Everything is perfect. Improve recommended page, add more color | 10/10                                              |\n",
    "| 2/27/2025 19:17:55 | 5    | 5    | 5    | 5    | Explain the purpose of the feature more                          | UI is amazing, looks like a popular website       |\n",
    "| 2/27/2025 19:18:11 | 5    | 5    | 5    | 5    | Seems very complete                                              | Thanks for explanations about code assistants     |\n",
    "| 2/27/2025 19:20:06 | 5    | 4    | 4    | 3    | Provide user manual for easier navigation                        | Really clean UI, nice job                         |\n",
    "| 2/27/2025 19:21:23 | 5    | 4    | 4    | 5    | I wanna be able to buy off of here                              | Fire stuff                                        |\n",
    "| 2/27/2025 19:21:30 | 5    | 5    | 5    | 5    | Presentation                                                     | ,                                                  |\n",
    "| 2/27/2025 19:21:43 | 5    | 5    | 5    | 5    | Presentation                                                     | Pretty cool and clean looking                     |\n",
    "| 2/27/2025 19:23:52 | 5    | 4    | 5    | 4    | Improve presentation skills and demoing                         | Nice home page styling                            |\n",
    "| 2/27/2025 19:24:31 | 4    | 4    | 5    | 5    | For future demos, smoother website navigation                   |                                                    |\n",
    "| 2/27/2025 19:27:21 | 5    | 5    | 5    | 5    | No issues                                                        |                                                    |\n",
    "| 2/27/2025 19:29:39 | 5    | 5    | 5    | 5    | Video recording implementation?                                 | Good site                                         |\n",
    "| 2/27/2025 19:29:59 | 5    | 5    | 5    | 4    | Presentation                                                     |                                                    |\n",
    "| 2/27/2025 19:30:50 | 5    | 5    | 5    | 5    | Nothing, it was really good                                      |                                                    |\n",
    "| 2/27/2025 19:32:31 | 4    | 4    | 4    | 5    | Adding data analytics on usage                                  | Great job                                         |\n",
    "| 2/27/2025 19:36:26 | 5    | 5    | 5    | 5    | Navigation was a little hard but overall amazing job            | Very realistic-looking website, great job        |\n",
    "\n",
    "### Averages:\n",
    "| Category       | Average | Without Troll |\n",
    "|---------------|---------|---------------|\n",
    "| Rate our project based on creativity        | 4.68    | 4.83          |\n",
    "| Rate our project based on functionality        | 4.56    | 4.70          |\n",
    "| Rate our project based on consistency of design         | 4.92    | 4.875         |\n",
    "|  Rating based on presentation skills         | 4.64    | 4.79          |\n",
    "\n",
    "\n",
    "Google Form: [Link](https://docs.google.com/forms/d/e/1FAIpQLSepqiXRydz5eTU2oQbM6lp5fYRP8YP_xvpkDmWv3kRpvKGoJQ/viewform?usp=dialog)\n",
    "Google Sheet: [Link](https://docs.google.com/spreadsheets/d/17jnuhTy8EZX1AU7uoK0efZ8Z1mU__hAomKNrKDpBGLI/edit?usp=sharing)"
   ]
  },
  {
   "cell_type": "markdown",
   "metadata": {},
   "source": [
    "The averages category has the original data on the left and the data without the one troll on the right. The troll was someone who anonymously put 1/5 for all of our data and said \"jk\" in the optional comments."
   ]
  },
  {
   "cell_type": "markdown",
   "metadata": {},
   "source": [
    "### Quick Analysis\n",
    "The data we got said that we very good in every category that we got data for. Our project is very good and is very polished. Some key things people had comments on is our presentation skills; people wanted our presentation to be a little smoother and to have everyone present instead of just a few people. There was no comments on specific features except the recommended cars feature which someone said needed improvement and more color. Other people said that the project as a whole was very complete and nice looking, but it was a little confusing with the navigation. Overall, N@TM was a success and we learned a lot from it."
   ]
  },
  {
   "cell_type": "markdown",
   "metadata": {},
   "source": [
    "## Images From N@TM"
   ]
  },
  {
   "cell_type": "markdown",
   "metadata": {},
   "source": [
    "### Our Project"
   ]
  },
  {
   "cell_type": "markdown",
   "metadata": {},
   "source": []
  },
  {
   "cell_type": "markdown",
   "metadata": {},
   "source": [
    "### Other project"
   ]
  },
  {
   "cell_type": "markdown",
   "metadata": {},
   "source": []
  }
 ],
 "metadata": {
  "language_info": {
   "name": "python"
  }
 },
 "nbformat": 4,
 "nbformat_minor": 2
}
