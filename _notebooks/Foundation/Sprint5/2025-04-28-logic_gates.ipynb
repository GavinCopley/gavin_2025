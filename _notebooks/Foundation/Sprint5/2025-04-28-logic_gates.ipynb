{
 "cells": [
  {
   "cell_type": "markdown",
   "id": "b2aa7d25",
   "metadata": {},
   "source": [
    "---\n",
    "layout: post\n",
    "title: Logic Gates\n",
    "description: Hacks\n",
    "type: hacks\n",
    "comments: True\n",
    "categories: ['DevOps']\n",
    "permalink: /csp/lesson/logicgates\n",
    "---"
   ]
  },
  {
   "cell_type": "markdown",
   "id": "e6192ff7",
   "metadata": {},
   "source": [
    "## Popcorn Hack 1"
   ]
  },
  {
   "cell_type": "markdown",
   "id": "8f998356",
   "metadata": {},
   "source": [
    "Q. What are methods of real-world purpose that using logic gates can implement? Explain deeper if using our listed impacts, explaining why this impact is helpful.<br><br>\n",
    "A. Things like automatic doors and car lights use OR gates. For the doors you can be on either side and car lights are when any door is open. Turning most modern cars on are AND gates. You have to press the brake while turning the engine on. This impact is helpful because it adds things to our lives that would otherwise be annoying. If turning on the engine did not require pressing down the brake someone might accidentally turn on their car when they didn't mean to. And if automatic doors didn't have OR, then they wouldn't be very good doors."
   ]
  },
  {
   "cell_type": "markdown",
   "id": "04143a00",
   "metadata": {},
   "source": [
    "## Popcorn Hack 2"
   ]
  },
  {
   "cell_type": "markdown",
   "id": "cdba2949",
   "metadata": {},
   "source": [
    "A digital circuit receives three binary inputs: X, Y, and Z. The circuit outputs 1 if and only if X AND Y are both 1, OR Z is 1.<br>\n",
    "Which of the following expressions represents the circuit’s behavior?<br>\n",
    "A. (X AND Y) OR Z B. X AND (Y OR Z) C. (X OR Y) AND Z D. NOT(X AND Y) OR Z<br>\n",
    "\n",
    "Answer I chose: A. (X AND Y) OR Z<br>\n",
    "This is because all of the other ones have different properties and only this one does the correct thing."
   ]
  },
  {
   "cell_type": "markdown",
   "id": "591e0e67",
   "metadata": {},
   "source": [
    "## Homework"
   ]
  },
  {
   "cell_type": "code",
   "execution_count": 2,
   "id": "167eb891",
   "metadata": {},
   "outputs": [
    {
     "name": "stdout",
     "output_type": "stream",
     "text": [
      "1\n",
      "0\n",
      "0\n",
      "0\n"
     ]
    }
   ],
   "source": [
    "def secure_entry_system(keycard, pin, voice_auth):\n",
    "    def AND(a, b):\n",
    "        return a & b \n",
    "\n",
    "    first_check = AND(keycard, pin)\n",
    "    final_check = AND(first_check, voice_auth)\n",
    "\n",
    "    return final_check\n",
    "\n",
    "print(secure_entry_system(1, 1, 1)) # should return 1\n",
    "print(secure_entry_system(1, 1, 0)) # shoudl return 0\n",
    "print(secure_entry_system(0, 1, 1)) # should return 0\n",
    "print(secure_entry_system(1, 0, 1)) # should return 0\n"
   ]
  }
 ],
 "metadata": {
  "kernelspec": {
   "display_name": "venv",
   "language": "python",
   "name": "python3"
  },
  "language_info": {
   "codemirror_mode": {
    "name": "ipython",
    "version": 3
   },
   "file_extension": ".py",
   "mimetype": "text/x-python",
   "name": "python",
   "nbconvert_exporter": "python",
   "pygments_lexer": "ipython3",
   "version": "3.12.5"
  }
 },
 "nbformat": 4,
 "nbformat_minor": 5
}
