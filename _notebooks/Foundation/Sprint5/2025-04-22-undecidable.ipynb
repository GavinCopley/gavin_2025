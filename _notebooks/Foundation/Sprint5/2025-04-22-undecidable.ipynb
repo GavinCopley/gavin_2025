{
 "cells": [
  {
   "cell_type": "markdown",
   "id": "e7d52884",
   "metadata": {},
   "source": [
    "---\n",
    "layout: post\n",
    "title: Undecidable\n",
    "description: Hacks\n",
    "type: hacks\n",
    "comments: True\n",
    "categories: ['DevOps']\n",
    "permalink: /csp/lesson/undecidable\n",
    "---"
   ]
  },
  {
   "cell_type": "markdown",
   "id": "0eedc7a7",
   "metadata": {},
   "source": [
    "## Undecidable vs Decidable"
   ]
  },
  {
   "cell_type": "markdown",
   "id": "3be3aae9",
   "metadata": {},
   "source": [
    "## Popcorn Hack 1\n",
    "An algorithm can be used to solve an undecidable problem. (True/**False**)<br>\n",
    "The answer is false. This is because by definiiton an undecidable problem is one that cannot be solved with an algorithm<br>\n",
    "\n",
    "## Popcorn Hack 2\n",
    "If a programmer encounters an undecidable problem, they can just use an alogirhtm that works most of the time. (**True**/False)<br>\n",
    "THis answer is true. This is because programmers can use approximations, which we learned is called \"heuristics\"\n",
    "\n",
    "## Popcorn Hack 3\n",
    "Which of the following options is not an example of an undecidable problem?<br>\n",
    "A. Halting Problem<br>\n",
    "B. The Collatz Conjecture<br>\n",
    "C. Rice’s Theorem<br>\n",
    "**D. Bubble sorting**<br>\n",
    "The rest are undecidable problems."
   ]
  },
  {
   "cell_type": "markdown",
   "id": "da14ff54",
   "metadata": {},
   "source": [
    "## Homework Hack"
   ]
  },
  {
   "cell_type": "markdown",
   "id": "ae3f95ff",
   "metadata": {},
   "source": [
    "1. Web browsers, such as Google Chrome, include script timeouts and will display an error messages like “Page Unresponsive” or “A script on this page may be busy or may have stopped responding” when a script runs too long. Users are prompted to stop or continue the script. \n",
    "2. Operating Systems use process management tools to handle unresponsive applications. Windows has its Task Manager that allows users to terminate processes that stop responding. This prevents prevents the whole computer from eventually freezing and stopping."
   ]
  },
  {
   "cell_type": "markdown",
   "id": "7d07d2f6",
   "metadata": {},
   "source": [
    "## Graphs & Heuristics"
   ]
  },
  {
   "cell_type": "markdown",
   "id": "2b34b32e",
   "metadata": {},
   "source": [
    "## Popcorn Hack 1\n",
    "True or **False**: In a directed graph, an edge from node A to node B implies that there is always a corresponding edge from node B to node A.<br>\n",
    "This is false because an edge between A to B doesn't always mean there will be a corresponding edge from B to A, it depends on how the nodes were connected.\n",
    "\n",
    "## Popcorn Hack 2\n",
    "**True** or False: Heuristics always provide faster solutions than exact algorithms, but they may sacrifice accuracy for speed.<br>\n",
    "This is true because heuristics look for the fastest way possible, while an algorithm that takes longer can take into account many things while sacrificing speed.\n",
    "\n",
    "## Popcorn Hack 3\n",
    "**True** or False: While heuristic algorithms like the Nearest Neighbor algorithm can significantly reduce the computational time for TSP, they can never guarantee an optimal solution, and the gap between the heuristic solution and the optimal solution can grow exponentially as the number of cities increases.<br>\n",
    "This is true. Heuristics sacrifice accuracy for speed, and as there are more things to calculate, accuracy can be quite low."
   ]
  },
  {
   "cell_type": "markdown",
   "id": "348a4de3",
   "metadata": {},
   "source": [
    "## Homework Hack"
   ]
  },
  {
   "cell_type": "markdown",
   "id": "92d24fe6",
   "metadata": {},
   "source": [
    "In social network analysis, a graph is used to represent connections between individuals. Users** are modeled as nodes (or vertices), and the relationships between them (follows, likes, comments, etc) are represented as edges. Edges can be:\n",
    "\n",
    "- Directed (e.g., Twitter follows: A follows B, but B may not follow A)\n",
    "- Undirected (e.g., Facebook friendships: A and B are mutually connected)\n",
    "- Weighted to show interaction strength (e.g., message frequency)\n",
    "\n",
    "Graphs help analyze patterns, detect communities, and measure influence using concepts like centrality, clustering, and shortest paths.\n",
    "\n",
    "### Real-World Example\n",
    "Platform: LinkedIn<br>\n",
    "LinkedIn uses graph theory to recommend new connections, analyze professional networks, and find the shortest or strongest connection path between users for networking and job referrals. This is really important for LinkedIn because LinkedIn is all about making connections between people looking for jobs/hiring.\n"
   ]
  }
 ],
 "metadata": {
  "language_info": {
   "name": "python"
  }
 },
 "nbformat": 4,
 "nbformat_minor": 5
}
