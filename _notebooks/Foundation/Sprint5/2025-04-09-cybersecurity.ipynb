{
 "cells": [
  {
   "cell_type": "markdown",
   "id": "119bcd88",
   "metadata": {},
   "source": [
    "---\n",
    "layout: post\n",
    "title: Cybersecurity Presentation Notes\n",
    "description: hacks\n",
    "type: hacks\n",
    "comments: True\n",
    "categories: ['DevOps']\n",
    "permalink: /cybersecuritynotes\n",
    "---"
   ]
  },
  {
   "cell_type": "markdown",
   "id": "9b622f49",
   "metadata": {},
   "source": [
    "## Notes\n",
    "Tricia Mercer\n",
    "\n",
    "\n",
    "Victor Nzeata\n",
    "- Professor\n",
    "- Cybersecuirty profession: army reserves first graduate from the cybersecurity academy\n",
    "- Purdue bachelor degree\n",
    "\n",
    "### What is a real world cybersecurity case that you worked on or studied that had a significant impact\n",
    "- Works for one of hte largest organization in the world\n",
    "- Finds people who make cybersecurity mistakes\n",
    "- Loves hunting people who commit crimes\n",
    "\n",
    "- Preventing hackers from getting information\n",
    "- Stop soldiers from having data leaks\n",
    "\n",
    "- Senior lead leaked proprietary and sensitive data from company\n",
    "\n",
    "### Why go into this field?\n",
    "- Catch the \"bad guys\"\n",
    "- Back in the day computers weren't as huge as they are now\n",
    "- Loves cybersecurity\n",
    "\n",
    "### How to further a career\n",
    "- Be nice\n",
    "- Be passionate\n",
    "- Do what you want and do it well\n",
    "- In order to do well you have to know the essentials\n",
    "- Build a network, hack the network, build connections\n",
    "- Find opportunities \n",
    "\n",
    "### Challenges in the field\n",
    "- Be able to pitch to people how cyber security works and why it's worth it\n",
    "- Communicate value properly\n",
    "- It's not just technical skills, but people skills\n",
    "\n",
    "## Reflection\n",
    "### Key Takeaways\n",
    "\n",
    "### Key Learnings\n",
    "\n"
   ]
  }
 ],
 "metadata": {
  "language_info": {
   "name": "python"
  }
 },
 "nbformat": 4,
 "nbformat_minor": 5
}
