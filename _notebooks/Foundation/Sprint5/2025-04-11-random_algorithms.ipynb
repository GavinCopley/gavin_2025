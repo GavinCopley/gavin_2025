{
 "cells": [
  {
   "cell_type": "markdown",
   "id": "5dd908fb",
   "metadata": {},
   "source": [
    "---\n",
    "layout: post\n",
    "title: Random Algorithms\n",
    "description: hacks\n",
    "type: hacks\n",
    "comments: True\n",
    "categories: ['DevOps']\n",
    "permalink: /csp/lesson/random_algorithms\n",
    "---"
   ]
  },
  {
   "cell_type": "markdown",
   "id": "d092dd38",
   "metadata": {},
   "source": [
    "## Random Algorithms"
   ]
  },
  {
   "cell_type": "markdown",
   "id": "d5f4f07d",
   "metadata": {},
   "source": [
    "## Popcorn Hack #2"
   ]
  },
  {
   "cell_type": "code",
   "execution_count": null,
   "id": "34803415",
   "metadata": {},
   "outputs": [],
   "source": [
    "import random\n",
    "\n",
    "activities = ['Go for a walk', 'Read a book', 'Call a friend', 'Try cooking', 'Watch a show', 'Take a nap', 'Go for a run', 'Write in a journal', 'Meditate', 'Listen to music', 'Procrastinate your homework']\n",
    "\n",
    "random_activity = random.choice(activities)\n",
    "\n",
    "print(f\"Today’s random activity: {random_activity}\")"
   ]
  },
  {
   "cell_type": "markdown",
   "id": "151db98b",
   "metadata": {},
   "source": [
    "## Popcorn Hack #3"
   ]
  },
  {
   "cell_type": "code",
   "execution_count": 1,
   "id": "883a8e3d",
   "metadata": {},
   "outputs": [
    {
     "name": "stdout",
     "output_type": "stream",
     "text": [
      "Gavin will be monitoring karaoke!\n",
      "Johan will be monitoring dancing!\n",
      "Elliot will be monitoring games!\n",
      "Jacob will be monitoring snack center!\n"
     ]
    }
   ],
   "source": [
    "import random\n",
    "hosts = ['Gavin', 'Johan', 'Elliot', 'Jacob']\n",
    "activities = ['dancing', 'games', 'snack center', 'take a selfie', 'karaoke']\n",
    "\n",
    "random.shuffle(activities)\n",
    "\n",
    "for i in range(len(hosts)):\n",
    "    print(f\"{hosts[i]} will be monitoring {activities[i]}!\")"
   ]
  },
  {
   "cell_type": "markdown",
   "id": "0855bdeb",
   "metadata": {},
   "source": [
    "## Simulation Games"
   ]
  },
  {
   "cell_type": "markdown",
   "id": "1917047c",
   "metadata": {},
   "source": [
    "## Popcorn Hack 1"
   ]
  },
  {
   "cell_type": "code",
   "execution_count": 2,
   "id": "f3e54ebf",
   "metadata": {},
   "outputs": [
    {
     "name": "stdout",
     "output_type": "stream",
     "text": [
      "Number: 12\n"
     ]
    }
   ],
   "source": [
    "import random\n",
    "\n",
    "def spinner():\n",
    "    return random.randint(1, 12)\n",
    "\n",
    "spin = spinner()\n",
    "print(\"Number:\", spin)"
   ]
  },
  {
   "cell_type": "markdown",
   "id": "9b669290",
   "metadata": {},
   "source": [
    "## Popcorn Hack 2"
   ]
  },
  {
   "cell_type": "code",
   "execution_count": null,
   "id": "c4ac033c",
   "metadata": {},
   "outputs": [
    {
     "name": "stdout",
     "output_type": "stream",
     "text": [
      "Computer chose: scissors\n",
      "You chose: scissors\n",
      "It's a tie!\n"
     ]
    }
   ],
   "source": [
    "import random\n",
    "\n",
    "def play_rock_paper_scissors():\n",
    "    choices = ['rock', 'paper', 'scissors']\n",
    "    computer_choice = random.choice(choices)\n",
    "    user_choice = input(\"Enter your choice (rock, paper, or scissors): \")\n",
    "\n",
    "    if user_choice not in choices:\n",
    "        print(\"Invalid choice. Please try again.\")\n",
    "        return\n",
    "\n",
    "    print(\"Computer chose:\", computer_choice)\n",
    "    print(\"You chose:\", user_choice)\n",
    "\n",
    "    if user_choice == computer_choice:\n",
    "        print(\"It's a tie!\")\n",
    "    elif (user_choice == 'rock' and computer_choice == 'scissors') or (user_choice == 'paper' and computer_choice == 'rock') or (user_choice == 'scissors' and computer_choice == 'paper'):\n",
    "        print(\"You win!\")\n",
    "    else:\n",
    "        print(\"You lose!\")\n",
    "\n",
    "play_rock_paper_scissors()"
   ]
  },
  {
   "cell_type": "markdown",
   "id": "57b8a1b9",
   "metadata": {},
   "source": [
    "## Homework"
   ]
  },
  {
   "cell_type": "markdown",
   "id": "c32d4059",
   "metadata": {},
   "source": [
    "## Homework Hack 1"
   ]
  },
  {
   "cell_type": "code",
   "execution_count": 8,
   "id": "5f5995b5",
   "metadata": {},
   "outputs": [
    {
     "name": "stdout",
     "output_type": "stream",
     "text": [
      "Student Team Assignments:\n",
      "\n",
      "Joe → Team Jnumber3\n",
      "Joey → Team Jnumber2\n",
      "Joseph → Team Jnumber3\n",
      "JoJo → Team Jnumber3\n",
      "Big Joe → Team Jnumber1\n",
      "Lil Joe → Team Jnumber3\n",
      "Average Joe → Team Jnumber3\n",
      "Cup of Joe → Team Jnumber1\n",
      "J-Dawg → Team Jnumber3\n",
      "Joestar → Team Jnumber2\n",
      "Joebama → Team Jnumber2\n",
      "Joefrey → Team Jnumber1\n",
      "Joezilla → Team Jnumber1\n",
      "Joe Mama → Team Jnumber1\n",
      "Jumpin' Joe → Team Jnumber2\n"
     ]
    }
   ],
   "source": [
    "import random\n",
    "\n",
    "def assign_teams():\n",
    "    students = [\n",
    "        \"Joe\", \"Joey\", \"Joseph\", \"JoJo\", \"Big Joe\",\n",
    "        \"Lil Joe\", \"Average Joe\", \"Cup of Joe\", \"J-Dawg\", \"Joestar\",\n",
    "        \"Joebama\", \"Joefrey\", \"Joezilla\", \"Joe Mama\", \"Jumpin' Joe\"\n",
    "    ]\n",
    "\n",
    "    teams = [\"Team Jnumber1\", \"Team Jnumber2\", \"Team Jnumber3\"]\n",
    "    assignments = {}\n",
    "\n",
    "    for student in students:\n",
    "        team = random.choice(teams)\n",
    "        assignments[student] = team\n",
    "\n",
    "    # Print results\n",
    "    print(\"Student Team Assignments:\\n\")\n",
    "    for student, team in assignments.items():\n",
    "        print(f\"{student} → {team}\")\n",
    "\n",
    "assign_teams()"
   ]
  },
  {
   "cell_type": "markdown",
   "id": "e9e8fcdd",
   "metadata": {},
   "source": [
    "## Homework Hack 2"
   ]
  },
  {
   "cell_type": "code",
   "execution_count": 9,
   "id": "5d27910b",
   "metadata": {},
   "outputs": [
    {
     "name": "stdout",
     "output_type": "stream",
     "text": [
      "7-Day Weather Forecast:\n",
      "\n",
      "Monday: Sunny\n",
      "Tuesday: Cloudy\n",
      "Wednesday: Rainy\n",
      "Thursday: Sunny\n",
      "Friday: Sunny\n",
      "Saturday: Rainy\n",
      "Sunday: Cloudy\n"
     ]
    }
   ],
   "source": [
    "import random\n",
    "\n",
    "def simulate_weather():\n",
    "    days = [\"Monday\", \"Tuesday\", \"Wednesday\", \"Thursday\", \"Friday\", \"Saturday\", \"Sunday\"]\n",
    "    weather_options = [\"Sunny\", \"Cloudy\", \"Rainy\"]\n",
    "\n",
    "    print(\"7-Day Weather Forecast:\\n\")\n",
    "    for day in days:\n",
    "        forecast = random.choice(weather_options)\n",
    "        print(f\"{day}: {forecast}\")\n",
    "\n",
    "simulate_weather()"
   ]
  },
  {
   "cell_type": "markdown",
   "id": "0f3e6a00",
   "metadata": {},
   "source": [
    "## Homework Hack 3"
   ]
  },
  {
   "cell_type": "code",
   "execution_count": 13,
   "id": "0b4427ee",
   "metadata": {},
   "outputs": [
    {
     "name": "stdout",
     "output_type": "stream",
     "text": [
      "Coffee Shop Queue Simulation:\n",
      "\n",
      "Joe was served in 5 minutes.\n",
      "Moe was served in 3 minutes.\n",
      "Foe was served in 2 minutes.\n",
      "Bro was served in 5 minutes.\n",
      "Po was served in 3 minutes.\n",
      "\n",
      "Total time to serve all customers: 18 minutes\n"
     ]
    }
   ],
   "source": [
    "import random\n",
    "\n",
    "def coffee_shop_queue():\n",
    "    customers = [\"Joe\", \"Moe\", \"Foe\", \"Bro\", \"Po\"]\n",
    "    total_time = 0\n",
    "\n",
    "    print(\"Coffee Shop Queue Simulation:\\n\")\n",
    "\n",
    "    for customer in customers:\n",
    "        service_time = random.randint(1, 5)\n",
    "        total_time += service_time\n",
    "        print(f\"{customer} was served in {service_time} minutes.\")\n",
    "\n",
    "    print(f\"\\nTotal time to serve all customers: {total_time} minutes\")\n",
    "\n",
    "coffee_shop_queue()"
   ]
  }
 ],
 "metadata": {
  "kernelspec": {
   "display_name": "venv",
   "language": "python",
   "name": "python3"
  },
  "language_info": {
   "codemirror_mode": {
    "name": "ipython",
    "version": 3
   },
   "file_extension": ".py",
   "mimetype": "text/x-python",
   "name": "python",
   "nbconvert_exporter": "python",
   "pygments_lexer": "ipython3",
   "version": "3.12.5"
  }
 },
 "nbformat": 4,
 "nbformat_minor": 5
}
