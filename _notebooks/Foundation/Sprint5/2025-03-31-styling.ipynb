{
 "cells": [
  {
   "cell_type": "markdown",
   "metadata": {},
   "source": [
    "---\n",
    "layout: post\n",
    "title: Styling\n",
    "description: hacks\n",
    "type: hacks\n",
    "comments: True\n",
    "categories: ['DevOps']\n",
    "permalink: /csp/styling\n",
    "---"
   ]
  },
  {
   "cell_type": "markdown",
   "metadata": {},
   "source": [
    "## Tailwind\n",
    "- he has a tailwind html\n",
    "- gives special class definiitons so we don't have to do css\n",
    "\n",
    "## Bootstrap\n",
    "- his bootstrap layout has a content wrapper\n",
    "- \n",
    "\n",
    "## Theme\n",
    "- outer shell of webpage\n",
    "- responsive: see how the UI changes when the window size of the browser changes (hard to do)\n",
    "\n",
    "## Jekyll files are the things we see at the top of the front matter (layout)\n",
    "- Layouts can be cascaded\n",
    "- {{ content }} is the fragment from each page (in the middle of the minima base.html)"
   ]
  }
 ],
 "metadata": {
  "language_info": {
   "name": "python"
  }
 },
 "nbformat": 4,
 "nbformat_minor": 2
}
