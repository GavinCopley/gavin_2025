{
 "cells": [
  {
   "cell_type": "markdown",
   "metadata": {},
   "source": [
    "---\n",
    "toc: false\n",
    "comments: true\n",
    "layout: post\n",
    "title: 6 things I did over 12 weeks, Issues, Burndown\n",
    "description: Going over 6 things that I did over 12 weeks\n",
    "permalink: /csp/tri2/6things\n",
    "menu: nav/tri2review.html\n",
    "---"
   ]
  },
  {
   "cell_type": "markdown",
   "metadata": {},
   "source": [
    "## 1: SignUp Page Creation\n",
    "- This was my first project on the website\n",
    "- We decided to use tailwind css and make our own styling of the website and we needed to seperate the signup and login functions into two different pages\n",
    "- Used code from previous flocker page to sign up\n",
    "- Functionality is great and is only the sign up and has better styling\n",
    "- Commits (frontend only): [1](https://github.com/Tvick22/personal_flocker_frontend/commit/4d644cb90a88e5ab2c2eeb054521624d75a6ce8b)"
   ]
  },
  {
   "cell_type": "markdown",
   "metadata": {},
   "source": [
    "![pic of signup]({{site.baseurl}}/images/tri2review/signup.png)"
   ]
  },
  {
   "cell_type": "markdown",
   "metadata": {},
   "source": [
    "## 2: chatBot API\n",
    "- The chatbot was one of my first features to the website\n",
    "- I decided not to make this my highlighted feature because it does not use database\n",
    "- First I made it work just in Postman with the ability to send and receive messages to and from the the Gemini AI\n",
    "- - would give responses in JSON (would make it easier to add a frontend later)\n",
    "<br>\n",
    "Burndown showing progress: [Here](https://github.com/users/Tvick22/projects/2/views/1?pane=issue&itemId=90732254&issue=Tvick22%7Cpersonal_flocker_frontend%7C13)\n",
    "\n",
    "- I then started on the frontend to show sent and received messages\n",
    "- added ability to save the chat history in local storage so everything would be private between user and AI\n",
    "- Progress can be seen at bottom of aforementioned burndown or click [here](https://github.com/users/Tvick22/projects/2/views/1?pane=issue&itemId=90732254&issue=Tvick22%7Cpersonal_flocker_frontend%7C13)\n",
    "- Commits:\n",
    "[1](https://github.com/Tvick22/personal_flocker_backend/commit/838d52c5ea501c12d28aac36d5e1dffa03a89c1a)\n",
    "[2](https://github.com/Tvick22/personal_flocker_backend/commit/04992e7bd94608287cbe8304f4fffb51a50df6d3)"
   ]
  },
  {
   "cell_type": "markdown",
   "metadata": {},
   "source": [
    "![pic of backend]({{site.baseurl}}/images/tri2review/chatbot.png)"
   ]
  },
  {
   "cell_type": "markdown",
   "metadata": {},
   "source": [
    "![pic of postman]({{site.baseurl}}/images/tri2review/chatbotpostman.png)"
   ]
  },
  {
   "cell_type": "markdown",
   "metadata": {},
   "source": [
    "## 3. chatBot Frontend Integration\n",
    "- I then started on the frontend to show sent and received messages\n",
    "- added ability to save the chat history in local storage so everything would be private between user and AI\n",
    "- Progress can be seen at bottom of aforementioned burndown or click [here](https://github.com/users/Tvick22/projects/2/views/1?pane=issue&itemId=90732254&issue=Tvick22%7Cpersonal_flocker_frontend%7C13)\n",
    "Commits:\n",
    "[1](https://github.com/Tvick22/personal_flocker_frontend/commit/cefaf90e8dc0f68c840ca0c7916ef8890168c621)\n",
    "[2](https://github.com/Tvick22/personal_flocker_frontend/commit/58a916d2d19ce4a1a5bfc62c265bee559e436ea9)\n",
    "[3](https://github.com/Tvick22/personal_flocker_frontend/commit/5f536a20146447b7d91fa7aeda4485782894a8bb)\n",
    "[4](https://github.com/Tvick22/personal_flocker_frontend/commit/bfe9fd68f3d380641f413a75ab9741681589f43a)\n",
    "[5](https://github.com/Tvick22/personal_flocker_frontend/commit/5ac0e21a29e6708baa25dee3c57dcfdd8e0d612c)"
   ]
  },
  {
   "cell_type": "markdown",
   "metadata": {},
   "source": [
    "![pic of frontend]({{site.baseurl}}/images/tri2review/chatbotfrontend.png)"
   ]
  },
  {
   "cell_type": "markdown",
   "metadata": {},
   "source": [
    "## 4: vinStore API and Backend Implementation\n",
    "- This is the feature that I have iterated over the whole 12 weeks\n",
    "- I started with the backend API which would just give a postman response of the car data when a VIN is submitted (post only)\n",
    "<br>\n",
    "Burndown showing progress: [Here](https://github.com/users/Tvick22/projects/2/views/1?pane=issue&itemId=90731953&issue=Tvick22%7Cpersonal_flocker_frontend%7C12)\n",
    "\n",
    "- Then I added the ability to store specific information (make, model, year, engine type) in a database table\n",
    "- - made the model file. also stores the user id and date added\n",
    "<br>Burndown showing progress: [Here](https://github.com/users/Tvick22/projects/2/views/1?pane=issue&itemId=93557027&issue=Tvick22%7Cpersonal_flocker_frontend%7C25)\n",
    "\n",
    "- Then I added all of the other methods (put, read, delete) to the API\n",
    "- Commits:\n",
    "[1](https://github.com/Tvick22/personal_flocker_backend/commit/1ef8651ed184bc88044e5a4fd24c3031281afc22)\n",
    "[2](https://github.com/Tvick22/personal_flocker_backend/commit/f5757f9fd6c55c8530be10ec0c4d4a1869650f97)\n",
    "[3](https://github.com/Tvick22/personal_flocker_backend/commit/6659aabde22a15b7f973496e652d5a23d3bf1091)\n",
    "[4](https://github.com/Tvick22/personal_flocker_backend/commit/2b9414e2faa84be61707e618763a005706ad61bd)\n",
    "[5](https://github.com/Tvick22/personal_flocker_backend/commit/26b61406e6829c733d3faa53ed537b90546ddabd)\n",
    "[6](https://github.com/Tvick22/personal_flocker_backend/commit/6a66154dccf3ac4e2efc33f36c4fdc9758da8e3f)\n",
    "[7](https://github.com/Tvick22/personal_flocker_backend/commit/80f71e6ecd9db4991e4f37cd3a352c88a4a5cb6e)\n",
    "[8](https://github.com/Tvick22/personal_flocker_backend/commit/ac9c5c7d5d2408179a81c56537bd1178ec1ab21e)"
   ]
  },
  {
   "cell_type": "markdown",
   "metadata": {},
   "source": [
    "![pic of postman]({{site.baseurl}}/images/tri2review/vinpostman.png)"
   ]
  },
  {
   "cell_type": "markdown",
   "metadata": {},
   "source": [
    "![pic of db table]({{site.baseurl}}/images/tri2review/vindb.png)"
   ]
  },
  {
   "cell_type": "markdown",
   "metadata": {},
   "source": [
    "## 5: vinStore Frontend and API calling\n",
    "- Created a basic frontend for posting\n",
    "- Posting was just the start and I then started working on the put method\n",
    "- Then I added a table for the get method, so the user can see info about their car\n",
    "- I then added delete inside the table so you can delete the VINs\n",
    "- I sadly didn't save images of what the site looked like after each part of the feature was added but I went through many different designs and ideas<br>\n",
    "Burndown showing progress: [Here](https://github.com/users/Tvick22/projects/2/views/1?pane=issue&itemId=94802445&issue=Tvick22%7Cpersonal_flocker_frontend%7C26)\n",
    "- Commits:\n",
    "[1](https://github.com/Tvick22/personal_flocker_frontend/commit/10506b2d621751a90fd0da2c0b50168d63a53a3b)\n",
    "[2](https://github.com/Tvick22/personal_flocker_frontend/commit/ed53a4f49ae2317bdcc999b00d1c2aae83e3249d)\n",
    "[3](https://github.com/Tvick22/personal_flocker_frontend/commit/f1e80435b550842547bd021b2334de9a3480dc99)\n",
    "[4](https://github.com/Tvick22/personal_flocker_frontend/commit/60d8c8c27190124836e4947b8ad0c95b5dc745dc)\n",
    "[5](https://github.com/Tvick22/personal_flocker_frontend/commit/b02f8251685479d165aad16623097e9ad6cec1e7)\n"
   ]
  },
  {
   "cell_type": "markdown",
   "metadata": {},
   "source": [
    "![pic of frontend]({{site.baseurl}}/images/tri2review/vinfrontend.png)"
   ]
  },
  {
   "cell_type": "markdown",
   "metadata": {},
   "source": [
    "## 6: Organizing Roles And Planning\n",
    "Since I am the assistant scrum master I am in charge of planning as well as completing my features. With the consent of my team, I created an issue (says Wyatt created it but I actually was the one who wrote stuff in it) to describe all of our roles and what we should accomplish by the end of the trimester. I also wrote a basic overview of what the team should be focusing on below the roles section. I also worked with Trevor on the KanBan board to make sure everyone was completing their work, creating burndowns, and working efficiently.\n",
    "<br>\n",
    "Link to Issue: [Here](https://github.com/Tvick22/personal_flocker_frontend/issues/27)<br>\n",
    "Link to KanBan: [Here](https://github.com/users/Tvick22/projects/2)"
   ]
  }
 ],
 "metadata": {
  "language_info": {
   "name": "python"
  }
 },
 "nbformat": 4,
 "nbformat_minor": 2
}
