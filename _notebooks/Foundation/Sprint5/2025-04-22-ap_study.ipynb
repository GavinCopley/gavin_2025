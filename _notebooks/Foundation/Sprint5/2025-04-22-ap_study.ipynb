{
 "cells": [
  {
   "cell_type": "markdown",
   "id": "4fa27d32",
   "metadata": {},
   "source": [
    "---\n",
    "layout: post\n",
    "title: AP Exam Study\n",
    "description: Study all core units\n",
    "type: hacks \n",
    "comments: True\n",
    "categories: ['DevOps']\n",
    "permalink: /csp/tri3/ap_study\n",
    "courses: { csp: {week: 19} }\n",
    "---"
   ]
  }
 ],
 "metadata": {
  "language_info": {
   "name": "python"
  }
 },
 "nbformat": 4,
 "nbformat_minor": 5
}
