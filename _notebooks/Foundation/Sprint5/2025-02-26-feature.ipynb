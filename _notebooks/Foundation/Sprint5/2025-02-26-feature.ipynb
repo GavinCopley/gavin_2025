{
 "cells": [
  {
   "cell_type": "markdown",
   "metadata": {},
   "source": [
    "---\n",
    "toc: false\n",
    "comments: true\n",
    "layout: post\n",
    "title: Highlighted Feature Review\n",
    "description: Tri 2 Review of the feature that I highlighted\n",
    "permalink: /csp/tri2/feature\n",
    "menu: nav/tri2review.html\n",
    "---"
   ]
  },
  {
   "cell_type": "markdown",
   "metadata": {},
   "source": [
    "## Explanation of my highlighted feature\n",
    "One of my features that I chose to highlight is my vinStore api feature. This feature is not just an API, but also has clean frontend UI that allows the user to seamlessly interact with the storing of data. The user can choose to upload their VIN to our database, which we then send the the Department of Transportation's VIN decoder to get information about their car. We get: make, model, year, and engine type. This is information we store and display to the user so they will not only know this information about their car, but we can also use this data and integrate it with other features, like posts and mechanic tips."
   ]
  },
  {
   "cell_type": "markdown",
   "metadata": {},
   "source": [
    "![pic of vinStore page]({{site.baseurl}}/images/tri2review/vinStore.png)"
   ]
  },
  {
   "cell_type": "markdown",
   "metadata": {},
   "source": [
    "## CPT Requirements Fulfilled\n",
    "My project fulfills many CPT requirements ([link](https://apcentral.collegeboard.org/media/pdf/ap-csp-student-task-directions.pdf)) that I will now list, starting with Instructions for Input From:\n",
    "\n",
    "### Instructions for Input From...\n",
    "##### User Input\n",
    "- Uses data acquired from user input. \n",
    "- This happens when user submits their VIN in the data field to send to my API which stores it in the data base and returns to the user with their car info. \n",
    "- Below is a code segment which displays this."
   ]
  },
  {
   "cell_type": "markdown",
   "metadata": {},
   "source": [
    "![picture of post html]({{site.baseurl}}/images/tri2review/post_html.png)\n",
    "![picture of post user]({{site.baseurl}}/images/tri2review/post_user.png)"
   ]
  },
  {
   "cell_type": "markdown",
   "metadata": {},
   "source": [
    "##### Online Data Stream\n",
    "- Uses data from an online data stream. \n",
    "- This happens when a user submits a VIN in the data field. We take this VIN from the user and sends it to the Department of Transportation ([link](https://vpic.nhtsa.dot.gov/api/)) which then sends us all data about the car. \n",
    "- We then parse that data for specific parts and format it into JSON where it gets stored and available to the user to view. \n",
    "- Below is a code segment which displays this."
   ]
  },
  {
   "cell_type": "markdown",
   "metadata": {},
   "source": [
    "![picture of DoT code]({{site.baseurl}}/images/tri2review/dot_api.png)"
   ]
  },
  {
   "cell_type": "markdown",
   "metadata": {},
   "source": [
    "### Use of at least one list or other collection type\n",
    "- My code takes data from the user and an online data stream to store data into a database. \n",
    "- The database holds relevant information to my feature and helps fulfill my programs purpose. \n",
    "- Below is an image that shows my table in the database that holds data relevant to the user-submitted VIN."
   ]
  },
  {
   "cell_type": "markdown",
   "metadata": {},
   "source": [
    "![pic of vehicles table in DB]({{site.baseurl}}/images/tri2review/vehiclesTable.png)"
   ]
  },
  {
   "cell_type": "markdown",
   "metadata": {},
   "source": [
    "### At least one procedure that has a name, return type, and one or more parameters\n",
    "- Procedure name: put. This is the put method in my vinStore API.\n",
    "- Return type: Response or jsonify. Depends on what it is for. Responses will give errors while jsonify will provide success message.\n",
    "- Parameters: old_vin and new_vin. Both of which are retrieved from the request JSON. These are used to modify the data in the database."
   ]
  },
  {
   "cell_type": "markdown",
   "metadata": {},
   "source": [
    "![pic of put method]({{site.baseurl}}/images/tri2review/put_method.png)"
   ]
  },
  {
   "cell_type": "markdown",
   "metadata": {},
   "source": [
    "### Algorithm that includes sequencing, selection, and iteration\n",
    "- Found in the aforementioned put method\n",
    "- Sequencing: Step by step execution of statements\n",
    "- Selection: Decision-making using IF statements\n",
    "- Iteration: Looping over a collection with JSON handling and database queries"
   ]
  },
  {
   "cell_type": "markdown",
   "metadata": {},
   "source": [
    "### Calls to procedure\n",
    "- A call to my procedure is seen in the frontend doing a API request call.\n",
    "- It accesses the put method to update the database "
   ]
  },
  {
   "cell_type": "markdown",
   "metadata": {},
   "source": [
    "![pic of call]({{site.baseurl}}/images/tri2review/put_call.png)"
   ]
  }
 ],
 "metadata": {
  "language_info": {
   "name": "python"
  }
 },
 "nbformat": 4,
 "nbformat_minor": 2
}
