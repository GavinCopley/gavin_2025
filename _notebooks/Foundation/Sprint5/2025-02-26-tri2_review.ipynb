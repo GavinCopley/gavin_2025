{
 "cells": [
  {
   "cell_type": "markdown",
   "metadata": {},
   "source": [
    "---\n",
    "toc: false\n",
    "comments: true\n",
    "layout: post\n",
    "title: Review\n",
    "description: Tri 2 Complete Blog\n",
    "permalink: /csp/tri2/review\n",
    "courses: { csp: {week: 18} }\n",
    "menu: nav/tri2review.html\n",
    "type: tangibles\n",
    "---"
   ]
  },
  {
   "cell_type": "markdown",
   "metadata": {},
   "source": [
    "Through the various sections of this blog, I will go over my project feature and how it relates to the CPT requirements. I will also go over my role in the team and how I have contributed to the team. "
   ]
  },
  {
   "cell_type": "markdown",
   "metadata": {},
   "source": [
    "## Future of CompSci\n",
    "I have really enjoyed these past two years of doing computer science. Starting with CSSE and having my brothers take CompSci with you as well has made me enjoy this class a lot. I hope to continue this computer science journey further into the future. I have learned a lot of skills that I would be able to take to the real world, like Agile Methodology, Scrum, Kanban boards, etc. I have overall really enjoyed this course and I am exicted to continue this in our third trimester."
   ]
  }
 ],
 "metadata": {
  "language_info": {
   "name": "python"
  }
 },
 "nbformat": 4,
 "nbformat_minor": 2
}
