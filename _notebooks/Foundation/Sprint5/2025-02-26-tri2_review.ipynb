{
 "cells": [
  {
   "cell_type": "markdown",
   "metadata": {},
   "source": [
    "---\n",
    "toc: false\n",
    "comments: true\n",
    "layout: post\n",
    "title: Review\n",
    "description: Tri 2 Complete Blog\n",
    "permalink: /csp/tri2/review\n",
    "courses: { csp: {week: 18} }\n",
    "menu: nav/tri2review.html\n",
    "type: tangibles\n",
    "---"
   ]
  },
  {
   "cell_type": "markdown",
   "metadata": {},
   "source": [
    "Through the various sections of this blog, I will go over my project feature and how it relates to the CPT requirements. I will also go over my role in the team and how I have contributed to the team. "
   ]
  }
 ],
 "metadata": {
  "language_info": {
   "name": "python"
  }
 },
 "nbformat": 4,
 "nbformat_minor": 2
}
