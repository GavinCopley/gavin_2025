{
 "cells": [
  {
   "cell_type": "markdown",
   "metadata": {},
   "source": [
    "---\n",
    "toc: false\n",
    "comments: true\n",
    "layout: post\n",
    "title: MCQ Review\n",
    "description: Reviewing MCQ. What did I get wrong?\n",
    "permalink: /csp/tri2/mcq\n",
    "menu: nav/tri2review.html\n",
    "---"
   ]
  },
  {
   "cell_type": "markdown",
   "metadata": {},
   "source": [
    "![mcq_score]({{site.baseurl}}/images/tri2review/mcq_score.png)\n",
    "## 62/67"
   ]
  },
  {
   "cell_type": "markdown",
   "metadata": {},
   "source": [
    "## Overview\n",
    "I did really good on the MCQ overall and I'm really proud of myself. I did most of the MCQ with Aarush so we could help each other understand questions that we didn't understand. Only a couple of the questions I would have gotten wrong if it weren't for him explaining something to him. One of those moments was for binary where I miscounted a number and he told me I was wrong. I think I learned a lot from this and I have gotten a lot of confidence for the AP test. I know things about reasonable time algorithms and binary search algorithms that I didn't know before and now I am happy that I am prepared for these things when the AP test comes around."
   ]
  },
  {
   "cell_type": "markdown",
   "metadata": {},
   "source": [
    "## Data"
   ]
  },
  {
   "cell_type": "markdown",
   "metadata": {},
   "source": [
    "![mcq_datas1]({{site.baseurl}}/images/tri2review/mcq_data1.png)\n",
    "![mcq_data2]({{site.baseurl}}/images/tri2review/mcq_datas2.png)"
   ]
  },
  {
   "cell_type": "markdown",
   "metadata": {},
   "source": [
    "## Questions I got wrong"
   ]
  },
  {
   "cell_type": "markdown",
   "metadata": {},
   "source": [
    "### Question 6: Correctness of robot programs\n",
    "- Q: The question below uses a robot in a grid of squares. The robot is represented as a triangle, which is initially in the bottom left square of the grid and facing right. Which of the following statements best describes the correctness of the programs?"
   ]
  },
  {
   "cell_type": "markdown",
   "metadata": {},
   "source": [
    "![q6q]({{site.baseurl}}/images/tri2review/q6q.png)"
   ]
  },
  {
   "cell_type": "markdown",
   "metadata": {},
   "source": [
    "![q6]({{site.baseurl}}/images/tri2review/q6.png)"
   ]
  },
  {
   "cell_type": "markdown",
   "metadata": {},
   "source": [
    "- I really don't know how I got this one wrong. Looking back at it, it makes perfect sense why the answer choice is C and I think I may have clicked the wrong option or just was out of it."
   ]
  },
  {
   "cell_type": "markdown",
   "metadata": {},
   "source": [
    "### Question 14: Print digits algorithm"
   ]
  },
  {
   "cell_type": "markdown",
   "metadata": {},
   "source": [
    "![q14]({{site.baseurl}}/images/tri2review/q14.png)"
   ]
  },
  {
   "cell_type": "markdown",
   "metadata": {},
   "source": [
    "- I know why I got this one wrong. I knew what the answer should've been but I selected the answer that put the remainder in number and not the integer. I think I got this and question 6 wrong because I did it in class and was getting distracted and in the AP testing room this shouldn't be a problem."
   ]
  },
  {
   "cell_type": "markdown",
   "metadata": {},
   "source": [
    "### Question 47: Requirements for binary search"
   ]
  },
  {
   "cell_type": "markdown",
   "metadata": {},
   "source": [
    "![q47]({{site.baseurl}}/images/tri2review/q47.png)"
   ]
  },
  {
   "cell_type": "markdown",
   "metadata": {},
   "source": [
    "- I didn't know how binary searches worked and I didn't want to look anything up for this so I went with what sounded the best. Now I know what to look for."
   ]
  },
  {
   "cell_type": "markdown",
   "metadata": {},
   "source": [
    "### Question 50: Reasonable time algorithms"
   ]
  },
  {
   "cell_type": "markdown",
   "metadata": {},
   "source": [
    "![q50]({{site.baseurl}}/images/tri2review/q50.png)"
   ]
  },
  {
   "cell_type": "markdown",
   "metadata": {},
   "source": [
    "- I just assumed this would be correct. Even though A was linear I thought it would still take a long time, but I didn't know that it would still be a reasonable time. I now know this for next time."
   ]
  },
  {
   "cell_type": "markdown",
   "metadata": {},
   "source": [
    "### Question 58: Error in AnyPairs procedure"
   ]
  },
  {
   "cell_type": "markdown",
   "metadata": {},
   "source": [
    "![q58]({{site.baseurl}}/images/tri2review/q58.png)"
   ]
  },
  {
   "cell_type": "markdown",
   "metadata": {},
   "source": [
    "- I didn't read the prompt correctly. I though it meant that the else statement should be false so when there was an answer that made it true I selected it. What the question was really saying was that the parameters that had two strings with equal values should be true, making the answer choice any choice that made a string with two parameters of equal value false. I will be sure to reread questions and their prompts next time."
   ]
  }
 ],
 "metadata": {
  "language_info": {
   "name": "python"
  }
 },
 "nbformat": 4,
 "nbformat_minor": 2
}
