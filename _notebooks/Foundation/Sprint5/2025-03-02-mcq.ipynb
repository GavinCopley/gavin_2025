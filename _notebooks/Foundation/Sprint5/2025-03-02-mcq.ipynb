{
 "cells": [
  {
   "cell_type": "markdown",
   "metadata": {},
   "source": [
    "---\n",
    "toc: false\n",
    "comments: true\n",
    "layout: post\n",
    "title: MCQ Review\n",
    "description: Reviewing MCQ. What did I get wrong?\n",
    "permalink: /csp/tri2/mcq\n",
    "menu: nav/tri2review.html\n",
    "---"
   ]
  },
  {
   "cell_type": "markdown",
   "metadata": {},
   "source": [
    "## Overview\n",
    "I did really good on the MCQ overall and I'm really proud of myself. I did most of the MCQ with Aarush so we could help each other understand questions that we didn't understand. Only a couple of the questions I would have gotten wrong if it weren't for him explaining something to him. One of those moments was for binary where I miscounted a number and he told me I was wrong."
   ]
  }
 ],
 "metadata": {
  "language_info": {
   "name": "python"
  }
 },
 "nbformat": 4,
 "nbformat_minor": 2
}
