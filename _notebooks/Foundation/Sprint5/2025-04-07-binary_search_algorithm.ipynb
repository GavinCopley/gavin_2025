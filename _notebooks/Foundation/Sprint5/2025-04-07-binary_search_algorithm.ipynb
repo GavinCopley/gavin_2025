{
 "cells": [
  {
   "cell_type": "markdown",
   "metadata": {},
   "source": [
    "---\n",
    "layout: post\n",
    "title: Binary Search Algorithms\n",
    "description: hacks\n",
    "type: hacks\n",
    "comments: True\n",
    "categories: ['DevOps']\n",
    "permalink: /csp/lesson/bsa\n",
    "---"
   ]
  },
  {
   "cell_type": "markdown",
   "metadata": {},
   "source": [
    "## Popcorn Hack 1\n",
    "Which of the following conditions must be met in order for the procedure to work as intended? Explain why.<br>\n",
    "a) The length of numList must be even<br>\n",
    "b) The list numList must not contain any duplicates<br>\n",
    "**c) The values in numList must be in sorted order<br>**\n",
    "d) The value of the target must not be equal to -1<br>\n",
    "This is the answer because if the list is not sorted, we don't know necessary if everything is in this or that half. This is because if we remove half of the list and it isn't sorted, then we don't know if our target is in the half we removed or the half we didn't. The other answer choices are just false.\n",
    "\n",
    "## Popcorn Hack 2\n",
    "Which of the following correctly describes a disadvantage of binary search compared to linear search? Explain why your answer is correct and why the others are wrong.<br>\n",
    "a) Binary search takes more time on average than linear search<br>\n",
    "**b) Binary search cannot be used on unsorted lists without modifications**<br>\n",
    "c) Binary search always returns the first occurrence of the target<br>\n",
    "d) Binary search can only be used on lists with unique values<br>\n",
    "The answer is correct for the same reason it was on the first question. Number A was wrong because binary search is on a logarithmic scale so it is much faster than linear search. Answer choice C is wrong because linear search is the one that does this and binary search can be modified to not do this. Answer choice D is wrong because it can be used on lists with duplicate values as long as they are ordered.\n",
    "\n",
    "## Popcorn Hack 3"
   ]
  },
  {
   "cell_type": "code",
   "execution_count": null,
   "metadata": {},
   "outputs": [
    {
     "data": {
      "text/plain": [
       "2"
      ]
     },
     "execution_count": 1,
     "metadata": {},
     "output_type": "execute_result"
    }
   ],
   "source": [
    "arr = ['a', 'b', 'c', 'd', 'e', 'f', 'g']\n",
    "\n",
    "def binary_search_strings(arr, target):\n",
    "    low, high = 0, len(arr) - 1\n",
    "\n",
    "    while low <= high:\n",
    "        mid = (low + high) // 2\n",
    "        guess = arr[mid]\n",
    "\n",
    "        if guess == target:\n",
    "            return mid  # Found it!\n",
    "        elif guess < target:\n",
    "            low = mid + 1  # Target comes after mid\n",
    "        else:\n",
    "            high = mid - 1  # Target comes before mid\n",
    "\n",
    "    return -1  # Not found\n",
    "\n",
    "binary_search_strings(arr, 'c') "
   ]
  },
  {
   "cell_type": "markdown",
   "metadata": {},
   "source": [
    "## Homework Hack"
   ]
  },
  {
   "cell_type": "code",
   "execution_count": null,
   "metadata": {},
   "outputs": [
    {
     "name": "stdout",
     "output_type": "stream",
     "text": [
      "First few rows of sorted data:\n",
      "        Product  Price\n",
      "5        Eraser   0.50\n",
      "14  Paper Clips   0.89\n",
      "2        Pencil   0.99\n",
      "9    Glue Stick   1.25\n",
      "1           Pen   1.50\n",
      "Original row count: 15\n",
      "Cleaned row count: 15\n",
      "Price $1.25 was FOUND in the list.\n",
      "Price $6.49 was FOUND in the list.\n",
      "Price $10.00 was NOT FOUND in the list.\n"
     ]
    }
   ],
   "source": [
    "import pandas as pd\n",
    "\n",
    "data = pd.read_csv(\"school_supplies.csv\")\n",
    "\n",
    "data_cleaned = data.dropna()\n",
    "\n",
    "data_sorted = data_cleaned.sort_values(by=\"Price\")\n",
    "\n",
    "price_list = data_sorted[\"Price\"].tolist()\n",
    "\n",
    "print(\"First few rows of sorted data:\")\n",
    "print(data_sorted.head())\n",
    "print(\"Original row count:\", len(data))\n",
    "print(\"Cleaned row count:\", len(data_cleaned))\n",
    "\n",
    "def binary_search(prices, target):\n",
    "    left, right = 0, len(prices) - 1\n",
    "    while left <= right:\n",
    "        mid = (left + right) // 2\n",
    "        if prices[mid] == target:\n",
    "            return True\n",
    "        elif prices[mid] < target:\n",
    "            left = mid + 1\n",
    "        else:\n",
    "            right = mid - 1\n",
    "    return False\n",
    "\n",
    "search_prices = [1.25, 6.49, 10.00]\n",
    "\n",
    "for price in search_prices:\n",
    "    found = binary_search(price_list, price)\n",
    "    if found:\n",
    "        print(f\"Price ${price:.2f} was FOUND in the list.\")\n",
    "    else:\n",
    "        print(f\"Price ${price:.2f} was NOT FOUND in the list.\")\n"
   ]
  }
 ],
 "metadata": {
  "kernelspec": {
   "display_name": "venv",
   "language": "python",
   "name": "python3"
  },
  "language_info": {
   "codemirror_mode": {
    "name": "ipython",
    "version": 3
   },
   "file_extension": ".py",
   "mimetype": "text/x-python",
   "name": "python",
   "nbconvert_exporter": "python",
   "pygments_lexer": "ipython3",
   "version": "3.12.5"
  }
 },
 "nbformat": 4,
 "nbformat_minor": 2
}
