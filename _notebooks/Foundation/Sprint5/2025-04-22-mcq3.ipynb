{
 "cells": [
  {
   "cell_type": "markdown",
   "id": "9fc07820",
   "metadata": {},
   "source": [
    "---\n",
    "layout: post\n",
    "title: Multiple Choice 3\n",
    "description: MCQ Reflection and corrections \n",
    "type: tangibles \n",
    "comments: True\n",
    "categories: ['DevOps']\n",
    "permalink: /csp/tri3/mcq\n",
    "courses: { csp: {week: 19} }\n",
    "---"
   ]
  },
  {
   "cell_type": "markdown",
   "id": "76220538",
   "metadata": {},
   "source": [
    "## TIME SPENT + SCORE\n",
    "![time spent]({{site.baseurl}}/images/mcq/score.png)"
   ]
  },
  {
   "cell_type": "markdown",
   "id": "85a2ca30",
   "metadata": {},
   "source": [
    "## REFLECTION\n",
    "I did pretty good on the MCQ. I thought I would have done better, but I kept getting distracted while taking it and kept zoning out so I wasn't fully focused like I would be on the AP test.\n",
    "\n",
    "I didn't Google any answers and went off of what I know and have studied. The lessons helped me remember some of the information, but I need to review some of the lessons again to refresh myself on the information."
   ]
  },
  {
   "cell_type": "markdown",
   "id": "965237cf",
   "metadata": {},
   "source": [
    "## CORRECTIONS"
   ]
  },
  {
   "cell_type": "markdown",
   "id": "fc43da58",
   "metadata": {},
   "source": [
    "### Question 7\n",
    "#### SKILLS: 2.A\n",
    "#### TOPICS: 3.3 , 3.6 , 3.8\n",
    "![q7]({{site.baseurl}}/images/mcq/q7.png)"
   ]
  },
  {
   "cell_type": "markdown",
   "id": "00afb873",
   "metadata": {},
   "source": [
    "I think I would've been able to get this one right, but I miscounted when I was going through the steps because the scrolling on the CollegeBoard website for that question was horrible, so I scrolled too far and didn't notice. Oh well.\n",
    "\n",
    "---"
   ]
  },
  {
   "cell_type": "markdown",
   "id": "f6e700c9",
   "metadata": {},
   "source": [
    "### Question 32\n",
    "#### SKILLS: 5.E\n",
    "#### TOPICS: 5.6\n",
    "![q32]({{site.baseurl}}/images/mcq/q32.png)"
   ]
  },
  {
   "cell_type": "markdown",
   "id": "f49f8414",
   "metadata": {},
   "source": [
    "I mistook the definition of symmetric encryption for public key encryption, so that's a full error on me. I will be sure to study that in the future as the test is coming up soon.\n",
    "\n",
    "---"
   ]
  },
  {
   "cell_type": "markdown",
   "id": "ac0ab406",
   "metadata": {},
   "source": [
    "### Question 52\n",
    "#### SKILLS: 1.D\n",
    "#### TOPICS: 3.11\n",
    "![q52]({{site.baseurl}}/images/mcq/q52.png)"
   ]
  },
  {
   "cell_type": "markdown",
   "id": "1399cf75",
   "metadata": {},
   "source": [
    "I misunderstood the question, but now I know the proper phrasing for this next time. This won't be a mistake I repeat"
   ]
  },
  {
   "cell_type": "markdown",
   "id": "65f6e10e",
   "metadata": {},
   "source": [
    "### Question 62\n",
    "#### SKILLS: 5.C\n",
    "#### TOPICS: 5.1\n",
    "![q62]({{site.baseurl}}/images/mcq/q62.png)"
   ]
  },
  {
   "cell_type": "markdown",
   "id": "54a20c65",
   "metadata": {},
   "source": [
    "I didn't read the whole information paragraph, which I probably should've. Premium users don't receive ads so that would be the clear answer. Another mistake that won't be repeated."
   ]
  },
  {
   "cell_type": "markdown",
   "id": "2e9577d0",
   "metadata": {},
   "source": [
    "### Question 64\n",
    "#### SKILLS: 4.C\n",
    "#### TOPICS: 1.4 , 3.6 , 3.12\n",
    "![q64]({{site.baseurl}}/images/mcq/q64.png)"
   ]
  },
  {
   "cell_type": "markdown",
   "id": "c2fe082d",
   "metadata": {},
   "source": [
    "This question was poorly made. After re-reviewing the question, I have come to the conclusion that the procedure was extremely poorly made and I now understand my mistake. I will be extra careful with these sort of problems."
   ]
  },
  {
   "cell_type": "markdown",
   "id": "22c9a908",
   "metadata": {},
   "source": [
    "### Question 70\n",
    "#### SKILLS: 3.B\n",
    "#### TOPICS: 3.4 , 3.12\n",
    "![q70]({{site.baseurl}}/images/mcq/q70.png)"
   ]
  },
  {
   "cell_type": "markdown",
   "id": "fe68583a",
   "metadata": {},
   "source": [
    "I chose one of the correct answers and didn't look at any others. Apparently it was a select the best two answers and I thought it was only going to be 1 answer. I need to read the prompt better and I will get that one correct next time."
   ]
  }
 ],
 "metadata": {
  "language_info": {
   "name": "python"
  }
 },
 "nbformat": 4,
 "nbformat_minor": 5
}
