{
 "cells": [
  {
   "cell_type": "markdown",
   "id": "4c18ced4",
   "metadata": {},
   "source": [
    "---\n",
    "layout: post\n",
    "title: Lists\n",
    "description: hacks\n",
    "type: hacks\n",
    "comments: True\n",
    "categories: ['DevOps']\n",
    "permalink: /csp/lesson/lists\n",
    "---"
   ]
  },
  {
   "cell_type": "markdown",
   "id": "c4b81aaf",
   "metadata": {},
   "source": [
    "## Popcorn Hack 1"
   ]
  },
  {
   "cell_type": "code",
   "execution_count": 4,
   "id": "9c6895d2",
   "metadata": {},
   "outputs": [
    {
     "name": "stdout",
     "output_type": "stream",
     "text": [
      "['minecraft movie', 'star wars', 'the matrix', 'interstellar']\n",
      "['minecraft movie', 'spiderman', 'the matrix', 'interstellar']\n",
      "['minecraft movie', 'spiderman', 'the matrix', 'interstellar', 'endgame']\n"
     ]
    }
   ],
   "source": [
    "movies = ['minecraft movie', 'star wars', 'the matrix', 'interstellar']\n",
    "print(movies)\n",
    "movies[1] = 'spiderman'\n",
    "print(movies)\n",
    "movies.append('endgame')\n",
    "print(movies)"
   ]
  },
  {
   "cell_type": "markdown",
   "id": "1e2c2ccb",
   "metadata": {},
   "source": [
    "## Popcorn Hack 2"
   ]
  },
  {
   "cell_type": "code",
   "execution_count": 6,
   "id": "a59cb4e6",
   "metadata": {},
   "outputs": [
    {
     "name": "stdout",
     "output_type": "stream",
     "text": [
      "[20, 34, 18, 21, 19]\n"
     ]
    }
   ],
   "source": [
    "ages = [15, 20, 34, 16, 18, 21, 14, 19]\n",
    "\n",
    "ages_voting = [num for num in ages if num >= 18]\n",
    "print(ages_voting)"
   ]
  },
  {
   "cell_type": "markdown",
   "id": "adf98a09",
   "metadata": {},
   "source": [
    "## Homework Hack 1\n",
    "\n",
    "Notes on - Python Lists || Python Tutorial || Learn Python Programming\n",
    "- lists can be combined using the plus sign\n",
    "- lists can have duplicate values (unlike sets)\n",
    "- lists can have different data types like \n",
    "- you can access lists with indexes (starting at 0)\n",
    "- slicing retrieves a range of values\n",
    "- append, slice, and combine all can alter lists\n",
    "- lists are created with brackets\n",
    "- lists can have other lists inside of them\n",
    "\n",
    "--- \n",
    "\n",
    "Notes on - Python Tutorial: Comprehensions - How they work and why you should be using them\n",
    "- comprehensions make creating lists easy\n",
    "- allows you to create new lists by apply an expression to each item\n",
    "- you can use conditional statements to modify or filter lists\n",
    "- dictionary comprehensions used for creating dictionaries\n",
    "- set comprehensions are use to create sets\n",
    "- nested comprehensions used to handle complex data structures (list of lists)\n",
    "- comprehensions provide more efficient code by reducing need for loops"
   ]
  },
  {
   "cell_type": "markdown",
   "id": "442dde16",
   "metadata": {},
   "source": [
    "## Homework Hack 2"
   ]
  },
  {
   "cell_type": "code",
   "execution_count": 1,
   "id": "9ac83beb",
   "metadata": {},
   "outputs": [
    {
     "name": "stdout",
     "output_type": "stream",
     "text": [
      "Original List:\n",
      "[1, 2, 3, 4, 5, 6, 7, 8, 9, 10, 11, 12, 13, 14, 15, 16, 17, 18, 19, 20, 21, 22, 23, 24, 25, 26, 27, 28, 29, 30]\n",
      "\n",
      "Filtered List (Divisible by 3 but not by 5):\n",
      "[3, 6, 9, 12, 18, 21, 24, 27]\n"
     ]
    }
   ],
   "source": [
    "original_list = list(range(1, 31))\n",
    "\n",
    "filtered_list = [num for num in original_list if num % 3 == 0 and num % 5 != 0]\n",
    "\n",
    "print(\"Original List:\")\n",
    "print(original_list)\n",
    "\n",
    "print(\"\\nFiltered List (Divisible by 3 but not by 5):\")\n",
    "print(filtered_list)"
   ]
  },
  {
   "cell_type": "markdown",
   "id": "4a3abcac",
   "metadata": {},
   "source": [
    "## Homework Hack 3\n"
   ]
  },
  {
   "cell_type": "code",
   "execution_count": 12,
   "id": "760664e8",
   "metadata": {},
   "outputs": [
    {
     "name": "stdout",
     "output_type": "stream",
     "text": [
      "First few rows of sorted data:\n",
      "           Country         Artist               Album      Genre  \\\n",
      "473          Spain  Billie Eilish   Happier Than Ever  Classical   \n",
      "294         France            BTS               Proof       Jazz   \n",
      "156        Germany            BTS               Proof      K-pop   \n",
      "22          Sweden            BTS               Proof        EDM   \n",
      "251         Sweden            BTS               Proof      Indie   \n",
      "..             ...            ...                 ...        ...   \n",
      "175         Russia        Karol G  MAÑANA SERÁ BONITO  Classical   \n",
      "216          India     Ed Sheeran   Autumn Variations  Classical   \n",
      "16   United States     Ed Sheeran   Autumn Variations       Jazz   \n",
      "308         Turkey  Ariana Grande    Eternal Sunshine       Rock   \n",
      "454    South Korea       Doja Cat             Scarlet      K-pop   \n",
      "\n",
      "     Release Year  Monthly Listeners (Millions)  Total Streams (Millions)  \\\n",
      "473          2019                         56.56                   4985.54   \n",
      "294          2023                          6.53                   4982.14   \n",
      "156          2023                         45.18                   4982.01   \n",
      "22           2023                         95.77                   4977.34   \n",
      "251          2018                         44.47                   4970.09   \n",
      "..            ...                           ...                       ...   \n",
      "175          2020                         48.01                    132.35   \n",
      "216          2021                         66.27                    127.87   \n",
      "16           2019                         59.26                     85.59   \n",
      "308          2019                          6.40                     68.89   \n",
      "454          2022                         37.34                     53.56   \n",
      "\n",
      "     Total Hours Streamed (Millions)  Avg Stream Duration (Min) Platform Type  \\\n",
      "473                         17691.17                       2.98       Premium   \n",
      "294                         14641.63                       4.19       Premium   \n",
      "156                         15300.52                       4.33       Premium   \n",
      "22                          17975.85                       3.94          Free   \n",
      "251                         20135.14                       2.97       Premium   \n",
      "..                               ...                        ...           ...   \n",
      "175                           418.55                       2.72       Premium   \n",
      "216                           455.78                       3.32          Free   \n",
      "16                            335.14                       2.62          Free   \n",
      "308                           184.30                       4.15       Premium   \n",
      "454                           202.25                       3.26          Free   \n",
      "\n",
      "     Streams Last 30 Days (Millions)  Skip Rate (%)  \n",
      "473                           155.58          13.61  \n",
      "294                            71.61          33.73  \n",
      "156                            40.84           6.29  \n",
      "22                             38.79           9.49  \n",
      "251                           172.35          24.80  \n",
      "..                               ...            ...  \n",
      "175                           117.16          32.07  \n",
      "216                           106.35          11.71  \n",
      "16                            181.18          34.53  \n",
      "308                            40.74           2.00  \n",
      "454                           176.70          25.17  \n",
      "\n",
      "[500 rows x 12 columns]\n"
     ]
    }
   ],
   "source": [
    "import pandas as pd\n",
    "\n",
    "data = pd.read_csv(\"Spotify_2024_Global_Streaming_Data.csv\")\n",
    "data_cleaned = data.dropna()\n",
    "filtered_data = data_cleaned[data_cleaned[\"Total Streams (Millions)\"] > 10]\n",
    "\n",
    "data_sorted = filtered_data.sort_values(by=\"Total Streams (Millions)\", ascending=False)\n",
    "\n",
    "new_list = data_sorted[\"Total Streams (Millions)\"].tolist()\n",
    "\n",
    "print(\"First few rows of sorted data:\")\n",
    "print(data_sorted)"
   ]
  },
  {
   "cell_type": "markdown",
   "id": "7c64798a",
   "metadata": {},
   "source": [
    "## Review Questions\n",
    "- Q: Explain what lists are in Python, including how to modify and manipulate them.\n",
    "- A: Lists in Python are ordered collections of items that can store different types of data, such as numbers, strings, or even other lists. They are mutable, meaning you can change their contents. You can add items using append() or insert(), remove them with remove() or pop(), and access or modify items by their index (e.g., my_list[0] = \"new value\"). Lists can also be sliced, sorted, or filtered using loops or list comprehensions.\n",
    "- Q: Provide a real-world scenario where a filtering algorithm might be applied.\n",
    "- A: A music streaming service like Spotify might use a filtering algorithm to show users songs with more than 10 million streams, or to recommend songs in a specific genre with high user ratings.\n",
    "- Q: Discuss why analyzing the efficiency of filtering algorithms is important for software development.\n",
    "- A: Efficiency matters because filtering large datasets can be time consuming and resource intensive. Analyzing an algorithm's efficiency helps developers choose or design algorithms that minimize processing time and memory usage, leading to faster applications and better user experiences. Especially when working with real time systems or big data."
   ]
  }
 ],
 "metadata": {
  "kernelspec": {
   "display_name": "venv",
   "language": "python",
   "name": "python3"
  },
  "language_info": {
   "codemirror_mode": {
    "name": "ipython",
    "version": 3
   },
   "file_extension": ".py",
   "mimetype": "text/x-python",
   "name": "python",
   "nbconvert_exporter": "python",
   "pygments_lexer": "ipython3",
   "version": "3.12.5"
  }
 },
 "nbformat": 4,
 "nbformat_minor": 5
}
