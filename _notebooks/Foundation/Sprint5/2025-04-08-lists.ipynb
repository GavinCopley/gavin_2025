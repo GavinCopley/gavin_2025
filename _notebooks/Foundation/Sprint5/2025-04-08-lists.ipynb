{
 "cells": [
  {
   "cell_type": "markdown",
   "id": "4c18ced4",
   "metadata": {},
   "source": [
    "---\n",
    "layout: post\n",
    "title: Lists\n",
    "description: hacks\n",
    "type: hacks\n",
    "comments: True\n",
    "categories: ['DevOps']\n",
    "permalink: /csp/lesson/lists\n",
    "---"
   ]
  },
  {
   "cell_type": "markdown",
   "id": "c4b81aaf",
   "metadata": {},
   "source": [
    "## Popcorn Hack 1"
   ]
  },
  {
   "cell_type": "code",
   "execution_count": 4,
   "id": "9c6895d2",
   "metadata": {},
   "outputs": [
    {
     "name": "stdout",
     "output_type": "stream",
     "text": [
      "['minecraft movie', 'star wars', 'the matrix', 'interstellar']\n",
      "['minecraft movie', 'spiderman', 'the matrix', 'interstellar']\n",
      "['minecraft movie', 'spiderman', 'the matrix', 'interstellar', 'endgame']\n"
     ]
    }
   ],
   "source": [
    "movies = ['minecraft movie', 'star wars', 'the matrix', 'interstellar']\n",
    "print(movies)\n",
    "movies[1] = 'spiderman'\n",
    "print(movies)\n",
    "movies.append('endgame')\n",
    "print(movies)"
   ]
  },
  {
   "cell_type": "markdown",
   "id": "1e2c2ccb",
   "metadata": {},
   "source": [
    "## Popcorn Hack 2"
   ]
  },
  {
   "cell_type": "code",
   "execution_count": 6,
   "id": "a59cb4e6",
   "metadata": {},
   "outputs": [
    {
     "name": "stdout",
     "output_type": "stream",
     "text": [
      "[20, 34, 18, 21, 19]\n"
     ]
    }
   ],
   "source": [
    "ages = [15, 20, 34, 16, 18, 21, 14, 19]\n",
    "\n",
    "ages_voting = [num for num in ages if num >= 18]\n",
    "print(ages_voting)"
   ]
  },
  {
   "cell_type": "markdown",
   "id": "adf98a09",
   "metadata": {},
   "source": [
    "## Homework Hack 1"
   ]
  },
  {
   "cell_type": "code",
   "execution_count": null,
   "id": "609baec2",
   "metadata": {},
   "outputs": [],
   "source": []
  }
 ],
 "metadata": {
  "kernelspec": {
   "display_name": "venv",
   "language": "python",
   "name": "python3"
  },
  "language_info": {
   "codemirror_mode": {
    "name": "ipython",
    "version": 3
   },
   "file_extension": ".py",
   "mimetype": "text/x-python",
   "name": "python",
   "nbconvert_exporter": "python",
   "pygments_lexer": "ipython3",
   "version": "3.12.5"
  }
 },
 "nbformat": 4,
 "nbformat_minor": 5
}
