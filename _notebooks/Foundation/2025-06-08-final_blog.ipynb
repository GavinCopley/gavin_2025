{
 "cells": [
  {
   "cell_type": "markdown",
   "id": "8e95aad6",
   "metadata": {},
   "source": [
    "---\n",
    "toc: False \n",
    "layout: post\n",
    "title: Tri3 Final Blog\n",
    "description: The final blog for CSP\n",
    "type: tangibles \n",
    "comments: True\n",
    "categories: ['DevOps']\n",
    "permalink: csp/tri3/final_blogipynb\n",
    "courses: { csp: {week: 19} }\n",
    "infoGraph: final_infograph\n",
    "---"
   ]
  },
  {
   "cell_type": "markdown",
   "id": "ab7d5797",
   "metadata": {},
   "source": [
    "{%- include nav/study.html -%}"
   ]
  },
  {
   "cell_type": "markdown",
   "id": "39a48a37",
   "metadata": {},
   "source": [
    "{%- include tailwind/infograph.html -%}"
   ]
  },
  {
   "cell_type": "markdown",
   "id": "f68f9620",
   "metadata": {},
   "source": [
    "# LinkedIn\n",
    "Link to Linked-In: [link](https://www.linkedin.com/in/gavincopley/)\n",
    "\n",
    "## Introduction of Key Interests and how Coding intersects with those interests\n",
    "Finance & Economics\n",
    "- interested in macroeconomic trends\n",
    "- finance\n",
    "- logic behind markets.\n",
    "\n",
    "Technology & Coding\n",
    "- enjoy building projects that solve real-world problems.\n",
    "- use coding to visualize data, simulate economic behaviors, and automate tasks.\n",
    "\n",
    "Where They Intersect\n",
    "- create tools and scripts to analyze financial data.\n",
    "- explore ways to represent money flow through interactive visualizations or dashboards.\n",
    "- inspired by my brother's work building a website/platform for my Dad's financial company—showing how tech directly supports business goals.\n",
    "\n",
    "## Highlight your Favorite project(s) \n",
    "\n",
    "My favorite project that I have worked on is of course MediPulse. MediPulse has definitely been the most proud I have been from making a project. Being the Scrum Master of my team, it has been a lot of hardwork, but was definitely worth it in the end. Making a project for PilotCity and a potential internship really put things on the line and motviated me and my team to follow through and make a product worth talking about. We have all put so much time into it and I am really happy with how it has turned out. THere is still so much stuff I coudl do to make it even better and I am glad to have embarked on this journey."
   ]
  },
  {
   "cell_type": "markdown",
   "id": "19eb20af",
   "metadata": {},
   "source": [
    "# Blog Stuff\n",
    "\n",
    "## Overview of Projects from Blog. Highlight your Unique qualities\n",
    "\n",
    "\n",
    "## Certification of  Homework Success with the year long lessons\n",
    "- check homeworks above\n",
    "- "
   ]
  },
  {
   "cell_type": "markdown",
   "id": "875bcfb3",
   "metadata": {},
   "source": [
    "# Stats\n",
    "\n",
    "## Issues, Commits\n",
    "Link to Issues:[here](https://github.com/GavinCopley/MediPulse/issues?q=is%3Aissue%20state%3Aopen%20author%3AGavinCopley)<br>\n",
    "Link to Commits: [here](https://github.com/GavinCopley/MediPulse/commits/main/?author=GavinCopley)\n",
    "\n",
    "![Green]({{site.baseurl}}/images/green.png)\n",
    "\n",
    "## OCS Dashboard / Grade Predictor\n",
    "![dashboard]({{site.baseurl}}/images/ocs_dashboard.png)\n",
    "![commits]({{site.baseurl}}/images/ocs_grade_commits.png)\n",
    "![smart]({{site.baseurl}}/images/ocs_grade_smart.png)\n"
   ]
  }
 ],
 "metadata": {
  "language_info": {
   "name": "python"
  }
 },
 "nbformat": 4,
 "nbformat_minor": 5
}
