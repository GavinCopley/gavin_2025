{
 "cells": [
  {
   "cell_type": "markdown",
   "id": "e9df482d",
   "metadata": {},
   "source": [
    "---\n",
    "toc: False \n",
    "layout: post\n",
    "title: Night at the Museum\n",
    "description: Night at the Museum blog - reflection and presentation\n",
    "type: tangibles \n",
    "comments: True\n",
    "categories: ['DevOps']\n",
    "permalink: csp/tri3/natm\n",
    "courses: { csp: {week: 19} }\n",
    "menu: nav/final_blog.html\n",
    "---"
   ]
  },
  {
   "cell_type": "markdown",
   "id": "a221641e",
   "metadata": {},
   "source": [
    "## How we presented at Night at the Museum\n",
    "\n",
    "- Our group started at 7:00 and ended at 7:30\n",
    "- I was the main speaker introducing people to our main features\n",
    "- Elliot explained the goal of our project\n",
    "- Everyone else helped with explaining futher to people who were more interested / showing socials\n",
    "- A lot of people came up to our presentation and wanted to check it out\n",
    "- It was a lot of fun talking about our project, skills, etc"
   ]
  },
  {
   "cell_type": "markdown",
   "id": "55c16904",
   "metadata": {},
   "source": [
    "## Links\n",
    "Link to our socials page on MediPulse: [here](https://gavincopley.github.io/MediPulse/socials)<br>\n",
    "Link to my vcard page: [here]({{site.baseurl}}/vcard)"
   ]
  },
  {
   "cell_type": "markdown",
   "id": "81b3a23f",
   "metadata": {},
   "source": [
    "## Images from N@TM"
   ]
  },
  {
   "cell_type": "markdown",
   "id": "a67ed752",
   "metadata": {},
   "source": [
    "![natm1]({{site.baseurl}}/images/natm1.JPEG)"
   ]
  },
  {
   "cell_type": "markdown",
   "id": "90dabdb3",
   "metadata": {},
   "source": [
    "![natm2]({{site.baseurl}}/images/natm2.jpeg)"
   ]
  },
  {
   "cell_type": "markdown",
   "id": "f4f2b44e",
   "metadata": {},
   "source": [
    "![natm3]({{site.baseurl}}/images/natm3.png)"
   ]
  },
  {
   "cell_type": "markdown",
   "id": "7be9c88c",
   "metadata": {},
   "source": [
    "![natm4]({{site.baseurl}}/images/natm4.png)"
   ]
  }
 ],
 "metadata": {
  "language_info": {
   "name": "python"
  }
 },
 "nbformat": 4,
 "nbformat_minor": 5
}
