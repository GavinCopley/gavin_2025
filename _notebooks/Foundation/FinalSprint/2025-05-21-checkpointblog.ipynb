{
 "cells": [
  {
   "cell_type": "markdown",
   "id": "01e4c4e3",
   "metadata": {},
   "source": [
    "---\n",
    "toc: false\n",
    "comments: true\n",
    "layout: post\n",
    "title: Checkpoint Blog\n",
    "description: Checkpoint - demo, commits, issues, kanban, etc\n",
    "permalink: /csp/tri3/checkpoint3\n",
    "menu: nav/study.html\n",
    "---"
   ]
  },
  {
   "cell_type": "markdown",
   "id": "f36f6dcd",
   "metadata": {},
   "source": [
    "## Links to Kanban Board and Burn Downs\n",
    "Kanban: [Here](https://github.com/users/GavinCopley/projects/2)<br>\n",
    "Issues:<br>\n",
    "[Design Consistency Across Pages + Easier User Viewability](https://github.com/GavinCopley/MediPulse/issues/56)<br>\n",
    "[Optimization Edit Page](https://github.com/GavinCopley/MediPulse/issues/55)<br>\n",
    "[New Page for Selection of Social Media Tool](https://github.com/GavinCopley/MediPulse/issues/54)<br>\n",
    "[Improve Frontend Social Media Optimization](https://github.com/GavinCopley/MediPulse/issues/50)<br>\n",
    "[Find new Data for ML Hospital Finder](https://github.com/GavinCopley/MediPulse/issues/48)\n"
   ]
  },
  {
   "cell_type": "markdown",
   "id": "dce8a31e",
   "metadata": {},
   "source": [
    "## Evidence of Commits\n",
    "Link to all of my commits: [Here](https://github.com/GavinCopley/MediPulse/commits/main/?author=GavinCopley)\n",
    "![commits]({{site.baseurl}}/images/t3/commits.png)\n",
    "![green]({{site.baseurl}}/images/t3/green.png)"
   ]
  }
 ],
 "metadata": {
  "language_info": {
   "name": "python"
  }
 },
 "nbformat": 4,
 "nbformat_minor": 5
}
