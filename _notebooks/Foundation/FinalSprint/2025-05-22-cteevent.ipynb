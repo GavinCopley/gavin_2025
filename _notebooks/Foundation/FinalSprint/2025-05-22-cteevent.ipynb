{
 "cells": [
  {
   "cell_type": "markdown",
   "id": "01e4c4e3",
   "metadata": {},
   "source": [
    "---\n",
    "toc: false\n",
    "comments: true\n",
    "layout: post\n",
    "title: CTE Fair Event\n",
    "description: Evidence of CTE HP Event\n",
    "permalink: /csp/tri3/hp\n",
    "---"
   ]
  },
  {
   "cell_type": "markdown",
   "id": "dce8a31e",
   "metadata": {},
   "source": [
    "## Photo Evidence\n",
    "![1]({{site.baseurl}}/images/t3/1.png)\n",
    "![2]({{site.baseurl}}/images/t3/2.png)\n",
    "![3]({{site.baseurl}}/images/t3/3.png)\n",
    "![4]({{site.baseurl}}/images/t3/4.png)"
   ]
  },
  {
   "cell_type": "markdown",
   "id": "2f5fb6e5",
   "metadata": {},
   "source": [
    "## Reflection\n",
    "I went to the Del Norte Optix team first <br>\n",
    "Then I went to the main speakers and stuff outside<br>\n",
    "I visited our CompSci booth and spoke with Aidan Lau and talked to him about his game<br>\n",
    "I did the bathroom pass device and then I walked around and looked at everything<br>\n",
    "It was really enjoyable and I am happy that I was able to go because I learned about all sorts of projects happening all over the district.\n"
   ]
  }
 ],
 "metadata": {
  "language_info": {
   "name": "python"
  }
 },
 "nbformat": 4,
 "nbformat_minor": 5
}
