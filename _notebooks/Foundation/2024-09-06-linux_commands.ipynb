{
 "cells": [
  {
   "cell_type": "raw",
   "metadata": {
    "vscode": {
     "languageId": "raw"
    }
   },
   "source": [
    "---\n",
    "layout: post\n",
    "title: Linux Commands\n",
    "description: Linux Commands I Need to Know\n",
    "type: issues\n",
    "comments: true\n",
    "categories: [Collaboration]\n",
    "type: hacks\n",
    "courses: { csp: {week: 1} }\n",
    "---"
   ]
  },
  {
   "cell_type": "markdown",
   "metadata": {
    "vscode": {
     "languageId": "html"
    }
   },
   "source": [
    "- ls : list in directory\n",
    "- pwd : where you are in your directories\n",
    "- mkdir : make a new directory\n",
    "- rm: remove\n",
    "- rm -rf: remove forever"
   ]
  }
 ],
 "metadata": {
  "kernelspec": {
   "display_name": "venv",
   "language": "python",
   "name": "python3"
  },
  "language_info": {
   "codemirror_mode": {
    "name": "ipython",
    "version": 3
   },
   "file_extension": ".py",
   "mimetype": "text/x-python",
   "name": "python",
   "nbconvert_exporter": "python",
   "pygments_lexer": "ipython3",
   "version": "3.12.5"
  }
 },
 "nbformat": 4,
 "nbformat_minor": 2
}
